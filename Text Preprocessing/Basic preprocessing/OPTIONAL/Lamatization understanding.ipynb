{
 "cells": [
  {
   "cell_type": "code",
   "execution_count": 2,
   "id": "62289550",
   "metadata": {},
   "outputs": [],
   "source": [
    "import nltk\n",
    "LM = nltk.stem.WordNetLemmatizer()\n",
    "stopwords = nltk.corpus.stopwords.words(\"English\")"
   ]
  },
  {
   "cell_type": "code",
   "execution_count": 5,
   "id": "5551dfdf",
   "metadata": {},
   "outputs": [],
   "source": [
    "Paragrapgh = \"\"\"Of course, in one sense, the first essential for a man's being a good citizen is his possession of the home virtues of which we think when we call a man by the emphatic \n",
    "               adjective of manly. No man can be a good citizen who is not a good husband and a good father, \n",
    "               who is not honest in his dealings with other men and women, faithful to his friends and fearless in the \n",
    "               presence of his foes, who has not got a sound heart, a sound mind, and a sound body; exactly as no amount\n",
    "               of attention to civil duties will save a nation if the domestic life is undermined, or there is lack of\n",
    "               the rude military virtues which alone can assure a country's position in the world. In a free republic \n",
    "               the ideal citizen must be one willing and able to take arms for the defense of the flag, exactly as the \n",
    "               ideal citizen must be the father of many healthy children. A race must be strong and vigorous; it must \n",
    "               be a race of good fighters and good breeders, else its wisdom will come to naught and its virtue be \n",
    "               ineffective; and no sweetness and delicacy, no love for and appreciation of beauty in art or literature,\n",
    "               no capacity for building up material prosperity can possibly atone for the lack of the great virile \n",
    "               virtues.But this is aside from my subject, for what I wish to talk of is the attitude of the American \n",
    "               citizen in civic life. It ought to be axiomatic in this country that every man must devote a reasonable \n",
    "               share of his time to doing his duty in the Political life of the community. No man has a right to shirk\n",
    "               his political duties under whatever plea of pleasure or business; and while such shirking may be pardoned\n",
    "               in those of small cleans it is entirely unpardonable in those among whom it is most common--in the people\n",
    "               whose circumstances give them freedom in the struggle for life. In so far as the community grows to think\n",
    "               rightly, it will likewise grow to regard the young man of means who shirks his duty to the State in time\n",
    "               of peace as being only one degree worse than the man who thus shirks it in time of war. A great many of\n",
    "               our men in business, or of our young men who are bent on enjoying life (as they have a perfect right to\n",
    "               do if only they do not sacrifice other things to enjoyment), rather plume themselves upon being good \n",
    "               citizens if they even vote; yet voting is the very least of their duties, Nothing worth gaining is ever \n",
    "               gained without effort. You can no more have freedom without striving and suffering for it than you can \n",
    "               win success as a banker or a lawyer without labor and effort, without self-denial in youth and the \n",
    "               display of a ready and alert intelligence in middle age. The people who say that they have not time \n",
    "               to attend to politics are simply saying that they are unfit to live in a free community.\"\"\""
   ]
  },
  {
   "cell_type": "code",
   "execution_count": 8,
   "id": "ef4d070a",
   "metadata": {},
   "outputs": [],
   "source": [
    "sentence= nltk.sent_tokenize(Paragrapgh)"
   ]
  },
  {
   "cell_type": "code",
   "execution_count": 14,
   "id": "2e0cacf4",
   "metadata": {},
   "outputs": [],
   "source": [
    "#nltk.download(\"wordnet\")\n",
    "#nltk.download('omw-1.4')\n",
    "# these were for working of lemmatize"
   ]
  },
  {
   "cell_type": "code",
   "execution_count": 13,
   "id": "04271248",
   "metadata": {},
   "outputs": [],
   "source": [
    "for i in range(len(sentence)):\n",
    "    words = nltk.word_tokenize(sentence[i])\n",
    "    words = [LM.lemmatize(words) for words in words if words not in stopwords]\n",
    "    sentence[i] = \" \".join(words)"
   ]
  },
  {
   "cell_type": "code",
   "execution_count": 15,
   "id": "616b0253",
   "metadata": {},
   "outputs": [
    {
     "data": {
      "text/plain": [
       "\"No man good citizen good husband good father , honest dealing men woman , faithful friend fearless presence foe , got sound heart , sound mind , sound body ; exactly amount attention civil duty save nation domestic life undermined , lack rude military virtue alone assure country 's position world .\""
      ]
     },
     "execution_count": 15,
     "metadata": {},
     "output_type": "execute_result"
    }
   ],
   "source": [
    "sentence[1]"
   ]
  },
  {
   "cell_type": "code",
   "execution_count": 16,
   "id": "b101aa10",
   "metadata": {},
   "outputs": [
    {
     "data": {
      "text/plain": [
       "'In free republic ideal citizen must one willing able take arm defense flag , exactly ideal citizen must father many healthy child .'"
      ]
     },
     "execution_count": 16,
     "metadata": {},
     "output_type": "execute_result"
    }
   ],
   "source": [
    "sentence[2]"
   ]
  },
  {
   "cell_type": "code",
   "execution_count": null,
   "id": "5ecdc188",
   "metadata": {},
   "outputs": [],
   "source": []
  }
 ],
 "metadata": {
  "kernelspec": {
   "display_name": "Python 3 (ipykernel)",
   "language": "python",
   "name": "python3"
  },
  "language_info": {
   "codemirror_mode": {
    "name": "ipython",
    "version": 3
   },
   "file_extension": ".py",
   "mimetype": "text/x-python",
   "name": "python",
   "nbconvert_exporter": "python",
   "pygments_lexer": "ipython3",
   "version": "3.10.0"
  }
 },
 "nbformat": 4,
 "nbformat_minor": 5
}
