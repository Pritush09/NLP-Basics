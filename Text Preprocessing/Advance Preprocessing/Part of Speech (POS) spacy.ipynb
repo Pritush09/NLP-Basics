{
 "cells": [
  {
   "cell_type": "code",
   "execution_count": 1,
   "id": "c9b30e5b",
   "metadata": {},
   "outputs": [],
   "source": [
    "import spacy"
   ]
  },
  {
   "cell_type": "code",
   "execution_count": 2,
   "id": "f80f3005",
   "metadata": {},
   "outputs": [],
   "source": [
    "nlp = spacy.load(\"en_core_web_sm\")"
   ]
  },
  {
   "cell_type": "markdown",
   "id": "3c95fe61",
   "metadata": {},
   "source": [
    "# POS Tags"
   ]
  },
  {
   "cell_type": "code",
   "execution_count": 3,
   "id": "2028fa1c",
   "metadata": {},
   "outputs": [
    {
     "name": "stdout",
     "output_type": "stream",
     "text": [
      "Elon  |  PROPN  |  proper noun\n",
      "flew  |  VERB  |  verb\n",
      "to  |  ADP  |  adposition\n",
      "mars  |  NOUN  |  noun\n",
      "yesterday  |  NOUN  |  noun\n",
      ".  |  PUNCT  |  punctuation\n",
      "He  |  PRON  |  pronoun\n",
      "carried  |  VERB  |  verb\n",
      "biryani  |  ADJ  |  adjective\n",
      "masala  |  NOUN  |  noun\n",
      "with  |  ADP  |  adposition\n",
      "him  |  PRON  |  pronoun\n"
     ]
    }
   ],
   "source": [
    "nlp = spacy.load(\"en_core_web_sm\")\n",
    "doc = nlp(\"Elon flew to mars yesterday. He carried biryani masala with him\")\n",
    "\n",
    "for token in doc:\n",
    "    print(token,\" | \", token.pos_, \" | \", spacy.explain(token.pos_))"
   ]
  },
  {
   "cell_type": "code",
   "execution_count": 4,
   "id": "b4982a28",
   "metadata": {},
   "outputs": [
    {
     "name": "stdout",
     "output_type": "stream",
     "text": [
      "Wow  |  INTJ  |  interjection\n",
      "!  |  PUNCT  |  punctuation\n",
      "Dr.  |  PROPN  |  proper noun\n",
      "Strange  |  PROPN  |  proper noun\n",
      "made  |  VERB  |  verb\n",
      "265  |  NUM  |  numeral\n",
      "million  |  NUM  |  numeral\n",
      "$  |  NUM  |  numeral\n",
      "on  |  ADP  |  adposition\n",
      "the  |  DET  |  determiner\n",
      "very  |  ADV  |  adverb\n",
      "first  |  ADJ  |  adjective\n",
      "day  |  NOUN  |  noun\n"
     ]
    }
   ],
   "source": [
    "doc = nlp(\"Wow! Dr. Strange made 265 million $ on the very first day\")\n",
    "\n",
    "for token in doc:\n",
    "    print(token,\" | \", token.pos_, \" | \", spacy.explain(token.pos_))"
   ]
  },
  {
   "cell_type": "markdown",
   "id": "16ce40e3",
   "metadata": {},
   "source": [
    "# Tags"
   ]
  },
  {
   "cell_type": "code",
   "execution_count": 5,
   "id": "dc61f34f",
   "metadata": {},
   "outputs": [
    {
     "name": "stdout",
     "output_type": "stream",
     "text": [
      "Wow  |  INTJ  |  interjection  |  UH  |  interjection\n",
      "!  |  PUNCT  |  punctuation  |  .  |  punctuation mark, sentence closer\n",
      "Dr.  |  PROPN  |  proper noun  |  NNP  |  noun, proper singular\n",
      "Strange  |  PROPN  |  proper noun  |  NNP  |  noun, proper singular\n",
      "made  |  VERB  |  verb  |  VBD  |  verb, past tense\n",
      "265  |  NUM  |  numeral  |  CD  |  cardinal number\n",
      "million  |  NUM  |  numeral  |  CD  |  cardinal number\n",
      "$  |  NUM  |  numeral  |  CD  |  cardinal number\n",
      "on  |  ADP  |  adposition  |  IN  |  conjunction, subordinating or preposition\n",
      "the  |  DET  |  determiner  |  DT  |  determiner\n",
      "very  |  ADV  |  adverb  |  RB  |  adverb\n",
      "first  |  ADJ  |  adjective  |  JJ  |  adjective (English), other noun-modifier (Chinese)\n",
      "day  |  NOUN  |  noun  |  NN  |  noun, singular or mass\n"
     ]
    }
   ],
   "source": [
    "doc = nlp(\"Wow! Dr. Strange made 265 million $ on the very first day\")\n",
    "# tags basically let us know that the word (verb) is in which tense \n",
    "for token in doc:\n",
    "    print(token,\" | \", token.pos_, \" | \", spacy.explain(token.pos_), \n",
    "          \" | \", token.tag_, \" | \", spacy.explain(token.tag_))"
   ]
  },
  {
   "cell_type": "code",
   "execution_count": 6,
   "id": "ab338b5e",
   "metadata": {},
   "outputs": [
    {
     "name": "stdout",
     "output_type": "stream",
     "text": [
      "quits | VBZ | verb, 3rd person singular present\n"
     ]
    }
   ],
   "source": [
    "# In sentences Spacy figures out the past vs present tense for quit\n",
    "doc = nlp(\"He quits the job\")\n",
    "\n",
    "print(doc[1].text, \"|\", doc[1].tag_, \"|\", spacy.explain(doc[1].tag_))"
   ]
  },
  {
   "cell_type": "code",
   "execution_count": 7,
   "id": "07b7fe73",
   "metadata": {},
   "outputs": [
    {
     "name": "stdout",
     "output_type": "stream",
     "text": [
      "quit | VBD | verb, past tense\n"
     ]
    }
   ],
   "source": [
    "doc = nlp(\"he quit the job\")\n",
    "\n",
    "print(doc[1].text, \"|\", doc[1].tag_, \"|\", spacy.explain(doc[1].tag_))"
   ]
  },
  {
   "cell_type": "markdown",
   "id": "8817c5b1",
   "metadata": {},
   "source": [
    "# Removing all SPACE, PUNCT and X token from text\n",
    "Processing microsoft's earning report: https://www.microsoft.com/en-us/investor/earnings/fy-2022-q2/press-release-webcast"
   ]
  },
  {
   "cell_type": "code",
   "execution_count": 8,
   "id": "4c7b21ab",
   "metadata": {},
   "outputs": [],
   "source": [
    "earnings_text=\"\"\"Microsoft Corp. today announced the following results for the quarter ended December 31, 2021, as compared to the corresponding period of last fiscal year:\n",
    "\n",
    "·         Revenue was $51.7 billion and increased 20%\n",
    "·         Operating income was $22.2 billion and increased 24%\n",
    "·         Net income was $18.8 billion and increased 21%\n",
    "·         Diluted earnings per share was $2.48 and increased 22%\n",
    "“Digital technology is the most malleable resource at the world’s disposal to overcome constraints and reimagine everyday work and life,” said Satya Nadella, chairman and chief executive officer of Microsoft. “As tech as a percentage of global GDP continues to increase, we are innovating and investing across diverse and growing markets, with a common underlying technology stack and an operating model that reinforces a common strategy, culture, and sense of purpose.”\n",
    "“Solid commercial execution, represented by strong bookings growth driven by long-term Azure commitments, increased Microsoft Cloud revenue to $22.1 billion, up 32% year over year” said Amy Hood, executive vice president and chief financial officer of Microsoft.\"\"\"\n",
    "\n",
    "doc = nlp(earnings_text)\n",
    "\n",
    "filtered_tokens = []\n",
    "\n",
    "for token in doc:\n",
    "    if token.pos_ not in [\"SPACE\", \"PUNCT\", \"X\"]:\n",
    "        filtered_tokens.append(token)"
   ]
  },
  {
   "cell_type": "code",
   "execution_count": 9,
   "id": "faaac5a2",
   "metadata": {},
   "outputs": [
    {
     "data": {
      "text/plain": [
       "[Microsoft,\n",
       " Corp.,\n",
       " today,\n",
       " announced,\n",
       " the,\n",
       " following,\n",
       " results,\n",
       " for,\n",
       " the,\n",
       " quarter,\n",
       " ended,\n",
       " December,\n",
       " 31,\n",
       " 2021,\n",
       " as,\n",
       " compared,\n",
       " to,\n",
       " the,\n",
       " corresponding,\n",
       " period,\n",
       " of,\n",
       " last,\n",
       " fiscal,\n",
       " year,\n",
       " Revenue,\n",
       " was,\n",
       " $,\n",
       " 51.7,\n",
       " billion,\n",
       " and,\n",
       " increased,\n",
       " 20,\n",
       " %,\n",
       " Operating,\n",
       " income,\n",
       " was,\n",
       " $,\n",
       " 22.2,\n",
       " billion,\n",
       " and,\n",
       " increased,\n",
       " 24,\n",
       " %,\n",
       " Net,\n",
       " income,\n",
       " was,\n",
       " $,\n",
       " 18.8,\n",
       " billion,\n",
       " and,\n",
       " increased,\n",
       " 21,\n",
       " %,\n",
       " Diluted,\n",
       " earnings,\n",
       " per,\n",
       " share,\n",
       " was,\n",
       " $,\n",
       " 2.48,\n",
       " and,\n",
       " increased,\n",
       " 22,\n",
       " %,\n",
       " Digital,\n",
       " technology,\n",
       " is,\n",
       " the,\n",
       " most,\n",
       " malleable,\n",
       " resource,\n",
       " at,\n",
       " the,\n",
       " world,\n",
       " ’s,\n",
       " disposal,\n",
       " to,\n",
       " overcome,\n",
       " constraints,\n",
       " and,\n",
       " reimagine,\n",
       " everyday,\n",
       " work,\n",
       " and,\n",
       " life,\n",
       " said,\n",
       " Satya,\n",
       " Nadella,\n",
       " chairman,\n",
       " and,\n",
       " chief,\n",
       " executive,\n",
       " officer,\n",
       " of,\n",
       " Microsoft,\n",
       " As,\n",
       " tech,\n",
       " as,\n",
       " a,\n",
       " percentage,\n",
       " of,\n",
       " global,\n",
       " GDP,\n",
       " continues,\n",
       " to,\n",
       " increase,\n",
       " we,\n",
       " are,\n",
       " innovating,\n",
       " and,\n",
       " investing,\n",
       " across,\n",
       " diverse,\n",
       " and,\n",
       " growing,\n",
       " markets,\n",
       " with,\n",
       " a,\n",
       " common,\n",
       " underlying,\n",
       " technology,\n",
       " stack,\n",
       " and,\n",
       " an,\n",
       " operating,\n",
       " model,\n",
       " that,\n",
       " reinforces,\n",
       " a,\n",
       " common,\n",
       " strategy,\n",
       " culture,\n",
       " and,\n",
       " sense,\n",
       " of,\n",
       " purpose,\n",
       " Solid,\n",
       " commercial,\n",
       " execution,\n",
       " represented,\n",
       " by,\n",
       " strong,\n",
       " bookings,\n",
       " growth,\n",
       " driven,\n",
       " by,\n",
       " long,\n",
       " term,\n",
       " Azure,\n",
       " commitments,\n",
       " increased,\n",
       " Microsoft,\n",
       " Cloud,\n",
       " revenue,\n",
       " to,\n",
       " $,\n",
       " 22.1,\n",
       " billion,\n",
       " up,\n",
       " 32,\n",
       " %,\n",
       " year,\n",
       " over,\n",
       " year,\n",
       " said,\n",
       " Amy,\n",
       " Hood,\n",
       " executive,\n",
       " vice,\n",
       " president,\n",
       " and,\n",
       " chief,\n",
       " financial,\n",
       " officer,\n",
       " of,\n",
       " Microsoft]"
      ]
     },
     "execution_count": 9,
     "metadata": {},
     "output_type": "execute_result"
    }
   ],
   "source": [
    "filtered_tokens"
   ]
  },
  {
   "cell_type": "code",
   "execution_count": 10,
   "id": "ebc2ca05",
   "metadata": {},
   "outputs": [
    {
     "data": {
      "text/plain": [
       "{96: 13,\n",
       " 92: 46,\n",
       " 100: 24,\n",
       " 90: 9,\n",
       " 85: 16,\n",
       " 93: 16,\n",
       " 97: 27,\n",
       " 98: 1,\n",
       " 84: 20,\n",
       " 103: 10,\n",
       " 87: 6,\n",
       " 99: 5,\n",
       " 89: 12,\n",
       " 86: 3,\n",
       " 94: 3,\n",
       " 95: 2}"
      ]
     },
     "execution_count": 10,
     "metadata": {},
     "output_type": "execute_result"
    }
   ],
   "source": [
    "count = doc.count_by(spacy.attrs.POS)\n",
    "count"
   ]
  },
  {
   "cell_type": "code",
   "execution_count": 11,
   "id": "db979f01",
   "metadata": {},
   "outputs": [
    {
     "data": {
      "text/plain": [
       "'PROPN'"
      ]
     },
     "execution_count": 11,
     "metadata": {},
     "output_type": "execute_result"
    }
   ],
   "source": [
    "doc.vocab[96].text"
   ]
  },
  {
   "cell_type": "code",
   "execution_count": 12,
   "id": "ff5abecc",
   "metadata": {},
   "outputs": [
    {
     "name": "stdout",
     "output_type": "stream",
     "text": [
      "PROPN | 13\n",
      "NOUN | 46\n",
      "VERB | 24\n",
      "DET | 9\n",
      "ADP | 16\n",
      "NUM | 16\n",
      "PUNCT | 27\n",
      "SCONJ | 1\n",
      "ADJ | 20\n",
      "SPACE | 10\n",
      "AUX | 6\n",
      "SYM | 5\n",
      "CCONJ | 12\n",
      "ADV | 3\n",
      "PART | 3\n",
      "PRON | 2\n"
     ]
    }
   ],
   "source": [
    "for k,v in count.items():\n",
    "    print(doc.vocab[k].text, \"|\",v)"
   ]
  },
  {
   "cell_type": "code",
   "execution_count": null,
   "id": "4f91084b",
   "metadata": {},
   "outputs": [],
   "source": []
  }
 ],
 "metadata": {
  "kernelspec": {
   "display_name": "Python 3 (ipykernel)",
   "language": "python",
   "name": "python3"
  },
  "language_info": {
   "codemirror_mode": {
    "name": "ipython",
    "version": 3
   },
   "file_extension": ".py",
   "mimetype": "text/x-python",
   "name": "python",
   "nbconvert_exporter": "python",
   "pygments_lexer": "ipython3",
   "version": "3.10.0"
  }
 },
 "nbformat": 4,
 "nbformat_minor": 5
}
