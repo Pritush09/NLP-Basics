{
 "cells": [
  {
   "cell_type": "code",
   "execution_count": 1,
   "id": "043fa486",
   "metadata": {},
   "outputs": [],
   "source": [
    "import re"
   ]
  },
  {
   "cell_type": "code",
   "execution_count": 2,
   "id": "367f2800",
   "metadata": {},
   "outputs": [
    {
     "name": "stdout",
     "output_type": "stream",
     "text": [
      "['345', '43', '42']\n"
     ]
    }
   ],
   "source": [
    "\n",
    "# Python3 program to extract all the numbers from a string\n",
    "import re\n",
    " \n",
    "# Function to extract all the numbers from the given string\n",
    "def getNumbers(str):\n",
    "    array = re.findall(r'[0-9]+', str)\n",
    "    return array\n",
    " \n",
    "# Driver code\n",
    "str = \"adbv345hj43hvb42\"\n",
    "array = getNumbers(str)\n",
    "print(array)"
   ]
  },
  {
   "cell_type": "code",
   "execution_count": 3,
   "id": "82278491",
   "metadata": {},
   "outputs": [
    {
     "name": "stdout",
     "output_type": "stream",
     "text": [
      "['firstname.lastname@company.com', 'initials@domain.com', 'firstname@domain.com', 'firstname_lastname@domain.com', 'department@company.com', 'firstname.lastname@university.edu', 'firstname.lastname@agency.gov', 'username@domain.com', 'contact@website.com', 'firstname.lastname@consultingfirm.com']\n"
     ]
    }
   ],
   "source": [
    "# for email \n",
    "regex = '[a-zA-Z0-9._-]*@[a-zA-Z]*\\.[a-z]{3}'\n",
    "text = \"\"\"firstname.lastname@company.com - This is a popular email address format that uses the first and last name of the individual separated by a dot.\n",
    "\n",
    "initials@domain.com - This email address format uses the initials of the individual followed by the domain name.\n",
    "\n",
    "firstname@domain.com - This email address format uses only the first name of the individual followed by the domain name.\n",
    "\n",
    "firstname_lastname@domain.com - This email address format uses the first name and last name of the individual separated by an underscore.\n",
    "\n",
    "department@company.com - This email address format uses the name of the department or team followed by the domain name.\n",
    "\n",
    "firstname.lastname@university.edu - This email address format is commonly used in academic settings and uses the first and last name of the individual followed by the domain name of the educational institution.\n",
    "\n",
    "firstname.lastname@agency.gov - This email address format is commonly used in government agencies and uses the first and last name of the individual followed by the domain name of the agency.\n",
    "\n",
    "username@domain.com - This email address format uses a unique username chosen by the individual followed by the domain name.\n",
    "\n",
    "contact@website.com - This email address format is commonly used for general inquiries or communication with a website.\n",
    "\n",
    "firstname.lastname@consultingfirm.com - This email address format is commonly used in consulting firms and uses the first and last name of the individual followed by the domain name of the firm.\"\"\"\n",
    "res = re.findall(regex,text)\n",
    "print(res)"
   ]
  },
  {
   "cell_type": "code",
   "execution_count": 4,
   "id": "2943c061",
   "metadata": {},
   "outputs": [
    {
     "name": "stdout",
     "output_type": "stream",
     "text": [
      "['412889912', '412889912', '412889912']\n"
     ]
    }
   ],
   "source": [
    "reg = 'order[^\\d]*([\\d]*)'\n",
    "txt = \"\"\"chat1='codebasics: Hello, I am having an issue with my order # 412889912'\n",
    "chat2='codebasics: I have a problem with my order number 412889912'\n",
    "chat3='codebasics: My order 412889912 is having an issue, I was charged 300$ when online it says 280$'\"\"\"\n",
    "result = re.findall(reg,txt)\n",
    "print(result)"
   ]
  },
  {
   "cell_type": "markdown",
   "id": "847e9fc5",
   "metadata": {},
   "source": [
    "# 1. Extract all twitter handles from following text. Twitter handle is the text that appears after https://twitter.com/ and is a single word. Also it contains only alpha numeric characters i.e. A-Z a-z , o to 9 and underscore _"
   ]
  },
  {
   "cell_type": "code",
   "execution_count": 5,
   "id": "3637eca0",
   "metadata": {},
   "outputs": [
    {
     "data": {
      "text/plain": [
       "['elonmusk', 'teslarati', 'dummy_tesla', 'dummy_2_tesla']"
      ]
     },
     "execution_count": 5,
     "metadata": {},
     "output_type": "execute_result"
    }
   ],
   "source": [
    "text = '''\n",
    "Follow our leader Elon musk on twitter here: https://twitter.com/elonmusk, more information \n",
    "on Tesla's products can be found at https://www.tesla.com/. Also here are leading influencers \n",
    "for tesla related news,\n",
    "https://twitter.com/teslarati\n",
    "https://twitter.com/dummy_tesla\n",
    "https://twitter.com/dummy_2_tesla\n",
    "'''\n",
    "pattern = 'twitter\\.com\\/([a-zA-z\\d_]*)' # todo: type your regex here\n",
    "\n",
    "re.findall(pattern, text)"
   ]
  },
  {
   "cell_type": "markdown",
   "id": "ed714722",
   "metadata": {},
   "source": [
    "# 2. Extract Concentration Risk Types. It will be a text that appears after \"Concentration Risk:\", In below example, your regex should extract these two strings\n",
    "\n",
    "(1) Credit Risk\n",
    "\n",
    "(2) Supply Rish"
   ]
  },
  {
   "cell_type": "code",
   "execution_count": 6,
   "id": "f8c08577",
   "metadata": {},
   "outputs": [
    {
     "data": {
      "text/plain": [
       "['Credit Risk', 'Supply Risk']"
      ]
     },
     "execution_count": 6,
     "metadata": {},
     "output_type": "execute_result"
    }
   ],
   "source": [
    "text = '''\n",
    "Concentration of Risk: Credit Risk\n",
    "Financial instruments that potentially subject us to a concentration of credit risk consist of cash, cash equivalents, marketable securities,\n",
    "restricted cash, accounts receivable, convertible note hedges, and interest rate swaps. Our cash balances are primarily invested in money market funds\n",
    "or on deposit at high credit quality financial institutions in the U.S. These deposits are typically in excess of insured limits. As of September 30, 2021\n",
    "and December 31, 2020, no entity represented 10% or more of our total accounts receivable balance. The risk of concentration for our convertible note\n",
    "hedges and interest rate swaps is mitigated by transacting with several highly-rated multinational banks.\n",
    "Concentration of Risk: Supply Risk\n",
    "We are dependent on our suppliers, including single source suppliers, and the inability of these suppliers to deliver necessary components of our\n",
    "products in a timely manner at prices, quality levels and volumes acceptable to us, or our inability to efficiently manage these components from these\n",
    "suppliers, could have a material adverse effect on our business, prospects, financial condition and operating results.\n",
    "'''\n",
    "pattern = 'Concentration of Risk: ([a-zA-Z ]*)' # todo: type your regex here\n",
    "\n",
    "re.findall(pattern, text)"
   ]
  },
  {
   "cell_type": "markdown",
   "id": "4d69e601",
   "metadata": {},
   "source": [
    "# 3. Companies in europe reports their financial numbers of semi annual basis and you can have a document like this. To exatract quarterly and semin annual period you can use a regex as shown below\n",
    "\n",
    "Hint: you need to use (?:) here to match everything enclosed"
   ]
  },
  {
   "cell_type": "code",
   "execution_count": 8,
   "id": "686dbb60",
   "metadata": {},
   "outputs": [
    {
     "data": {
      "text/plain": [
       "['FY2021 Q1 was $4.85', 'FY2021 S1 was $8 ']"
      ]
     },
     "execution_count": 8,
     "metadata": {},
     "output_type": "execute_result"
    }
   ],
   "source": [
    "text = '''\n",
    "Tesla's gross cost of operating lease vehicles in FY2021 Q1 was $4.85 billion.\n",
    "BMW's gross cost of operating vehicles in FY2021 S1 was $8 billion.\n",
    "'''\n",
    "\n",
    "pattern = '(?:FY\\d{4} [S|Q]\\d [a-zA-Z]* [$]\\d[ \\.]\\d*)' # todo: type your regex here\n",
    "matches = re.findall(pattern, text)\n",
    "matches"
   ]
  },
  {
   "cell_type": "code",
   "execution_count": null,
   "id": "89f7e26c",
   "metadata": {},
   "outputs": [],
   "source": []
  }
 ],
 "metadata": {
  "kernelspec": {
   "display_name": "Python 3 (ipykernel)",
   "language": "python",
   "name": "python3"
  },
  "language_info": {
   "codemirror_mode": {
    "name": "ipython",
    "version": 3
   },
   "file_extension": ".py",
   "mimetype": "text/x-python",
   "name": "python",
   "nbconvert_exporter": "python",
   "pygments_lexer": "ipython3",
   "version": "3.10.0"
  }
 },
 "nbformat": 4,
 "nbformat_minor": 5
}
