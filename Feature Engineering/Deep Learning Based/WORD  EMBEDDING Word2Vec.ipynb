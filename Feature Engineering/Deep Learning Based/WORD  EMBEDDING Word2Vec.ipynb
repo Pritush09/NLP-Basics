{
 "cells": [
  {
   "cell_type": "code",
   "execution_count": 1,
   "id": "7da79c71",
   "metadata": {},
   "outputs": [],
   "source": [
    "import pandas as pd\n",
    "import numpy as np"
   ]
  },
  {
   "cell_type": "markdown",
   "id": "ac8e0478",
   "metadata": {},
   "source": [
    "# Advantages of word embeddings \n",
    "* the dimensionality decreases\n",
    "* similar words have similar vectors \n",
    "* These are dense not sparce having lots of zeros"
   ]
  },
  {
   "cell_type": "markdown",
   "id": "3b65e876",
   "metadata": {},
   "source": [
    "# Different word embedding techniques\n",
    "* Word2Vec\n",
    "* Glove\n",
    "* fasttext"
   ]
  },
  {
   "cell_type": "markdown",
   "id": "0acc1484",
   "metadata": {},
   "source": [
    "### these embeddings are not handcrafted the are learned during the NN training"
   ]
  },
  {
   "cell_type": "markdown",
   "id": "b814fc3b",
   "metadata": {},
   "source": [
    "# creation\n",
    "* Take a fake problem \n",
    "* Solve it using NN \n",
    "* and as a side effect these embeddings are creaated\n",
    "\n",
    "the fake problem could be find the missing word in a sentense"
   ]
  },
  {
   "cell_type": "markdown",
   "id": "445f8f9a",
   "metadata": {},
   "source": [
    "# WORD2VEC\n",
    "* CBOW - Continuous Bag of WOrd ex. having the words ordered and his  and predictiong the word King\n",
    "* Skip gram - ex. having the word king and predictiong the other words ordered his"
   ]
  },
  {
   "cell_type": "code",
   "execution_count": null,
   "id": "d90ae303",
   "metadata": {},
   "outputs": [],
   "source": []
  }
 ],
 "metadata": {
  "kernelspec": {
   "display_name": "Python 3 (ipykernel)",
   "language": "python",
   "name": "python3"
  },
  "language_info": {
   "codemirror_mode": {
    "name": "ipython",
    "version": 3
   },
   "file_extension": ".py",
   "mimetype": "text/x-python",
   "name": "python",
   "nbconvert_exporter": "python",
   "pygments_lexer": "ipython3",
   "version": "3.10.0"
  }
 },
 "nbformat": 4,
 "nbformat_minor": 5
}
