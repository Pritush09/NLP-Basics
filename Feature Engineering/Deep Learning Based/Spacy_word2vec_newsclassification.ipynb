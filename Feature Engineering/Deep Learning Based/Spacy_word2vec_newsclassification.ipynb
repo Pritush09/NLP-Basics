{
 "cells": [
  {
   "cell_type": "code",
   "execution_count": 1,
   "id": "7da79c71",
   "metadata": {
    "tags": []
   },
   "outputs": [],
   "source": [
    "import pandas as pd\n",
    "import numpy as np"
   ]
  },
  {
   "cell_type": "markdown",
   "id": "ac8e0478",
   "metadata": {},
   "source": [
    "# Advantages of word embeddings \n",
    "* the dimensionality decreases\n",
    "* similar words have similar vectors \n",
    "* These are dense not sparce having lots of zeros"
   ]
  },
  {
   "cell_type": "markdown",
   "id": "3b65e876",
   "metadata": {},
   "source": [
    "# Different word embedding techniques\n",
    "* Word2Vec\n",
    "* Glove\n",
    "* fasttext"
   ]
  },
  {
   "cell_type": "markdown",
   "id": "0acc1484",
   "metadata": {},
   "source": [
    "### these embeddings are not handcrafted the are learned during the NN training"
   ]
  },
  {
   "cell_type": "markdown",
   "id": "b814fc3b",
   "metadata": {},
   "source": [
    "# creation\n",
    "* Take a fake problem \n",
    "* Solve it using NN \n",
    "* and as a side effect these embeddings are creaated\n",
    "\n",
    "the fake problem could be find the missing word in a sentense"
   ]
  },
  {
   "cell_type": "markdown",
   "id": "445f8f9a",
   "metadata": {},
   "source": [
    "# WORD2VEC\n",
    "* CBOW - Continuous Bag of WOrd ex. having the words ordered and his  and predictiong the word King\n",
    "* Skip gram - ex. having the word king and predictiong the other words ordered his"
   ]
  },
  {
   "cell_type": "code",
   "execution_count": 2,
   "id": "d90ae303",
   "metadata": {
    "tags": []
   },
   "outputs": [],
   "source": [
    "import spacy\n",
    "nlp = spacy.load(\"en_core_web_lg\") # it is based on Glove embedding"
   ]
  },
  {
   "cell_type": "code",
   "execution_count": 3,
   "id": "4c91b93b-a6a4-4c3b-a694-b04a04ec7c0c",
   "metadata": {
    "tags": []
   },
   "outputs": [],
   "source": [
    "base = nlp(\"bread\")"
   ]
  },
  {
   "cell_type": "code",
   "execution_count": 4,
   "id": "beb07987-2be1-48fd-a7d5-19f744e067ed",
   "metadata": {
    "tags": []
   },
   "outputs": [
    {
     "name": "stdout",
     "output_type": "stream",
     "text": [
      "bread True False\n"
     ]
    }
   ],
   "source": [
    "for token in base:\n",
    "    print(token,token.has_vector,token.is_oov)"
   ]
  },
  {
   "cell_type": "code",
   "execution_count": 5,
   "id": "652bc5dc-57d5-438e-a3e9-af66a701619f",
   "metadata": {
    "tags": []
   },
   "outputs": [],
   "source": [
    "word = nlp(\"this is a bread car human wheat burger sandwich\")"
   ]
  },
  {
   "cell_type": "code",
   "execution_count": 6,
   "id": "80d6a3d3-a970-4063-bd80-e537b4cf8840",
   "metadata": {
    "tags": []
   },
   "outputs": [
    {
     "name": "stdout",
     "output_type": "stream",
     "text": [
      "this bread   0.33640021135351666\n",
      "is bread   0.07896466033096411\n",
      "a bread   0.18675584998945252\n",
      "bread bread   1.0\n",
      "car bread   0.06451532596945217\n",
      "human bread   0.2151154210812192\n",
      "wheat bread   0.615036141030184\n",
      "burger bread   0.47520687769584247\n",
      "sandwich bread   0.6341067417450952\n"
     ]
    }
   ],
   "source": [
    "for token in word:\n",
    "    print(token.text,base.text,\" \", token.similarity(base))"
   ]
  },
  {
   "cell_type": "code",
   "execution_count": 7,
   "id": "0e13ed30-512f-41de-84ad-7e106c969cf5",
   "metadata": {
    "tags": []
   },
   "outputs": [],
   "source": [
    "king = nlp.vocab[\"king\"].vector\n",
    "man = nlp.vocab['man'].vector\n",
    "woman = nlp.vocab['woman'].vector\n",
    "res = king - man + woman\n"
   ]
  },
  {
   "cell_type": "code",
   "execution_count": 8,
   "id": "3b7dcc33-088e-4c2c-adf6-87ee7bacbcbb",
   "metadata": {
    "tags": []
   },
   "outputs": [
    {
     "name": "stdout",
     "output_type": "stream",
     "text": [
      "[[0.48758626]]\n",
      "[[0.8489542]]\n",
      "[[0.07003621]]\n",
      "[[0.3099472]]\n"
     ]
    }
   ],
   "source": [
    "from sklearn.metrics.pairwise import cosine_similarity\n",
    "print(cosine_similarity([res],[nlp.vocab['Queen'].vector]))\n",
    "print(cosine_similarity([res],[nlp.vocab['king'].vector]))\n",
    "print(cosine_similarity([res],[nlp.vocab['man'].vector]))\n",
    "print(cosine_similarity([res],[nlp.vocab['woman'].vector]))"
   ]
  },
  {
   "cell_type": "code",
   "execution_count": 9,
   "id": "64c3892f-81bf-4700-8e79-8c305a1cf6c8",
   "metadata": {
    "tags": []
   },
   "outputs": [],
   "source": [
    "data = pd.read_csv(\"news_articles.csv\")"
   ]
  },
  {
   "cell_type": "code",
   "execution_count": 31,
   "id": "fc3c56b0-cf07-4fbd-8b0e-0229b5b80ab0",
   "metadata": {
    "tags": []
   },
   "outputs": [
    {
     "data": {
      "text/html": [
       "<div>\n",
       "<style scoped>\n",
       "    .dataframe tbody tr th:only-of-type {\n",
       "        vertical-align: middle;\n",
       "    }\n",
       "\n",
       "    .dataframe tbody tr th {\n",
       "        vertical-align: top;\n",
       "    }\n",
       "\n",
       "    .dataframe thead th {\n",
       "        text-align: right;\n",
       "    }\n",
       "</style>\n",
       "<table border=\"1\" class=\"dataframe\">\n",
       "  <thead>\n",
       "    <tr style=\"text-align: right;\">\n",
       "      <th></th>\n",
       "      <th>author</th>\n",
       "      <th>published</th>\n",
       "      <th>title</th>\n",
       "      <th>text</th>\n",
       "      <th>language</th>\n",
       "      <th>site_url</th>\n",
       "      <th>main_img_url</th>\n",
       "      <th>type</th>\n",
       "      <th>label</th>\n",
       "      <th>title_without_stopwords</th>\n",
       "      <th>text_without_stopwords</th>\n",
       "      <th>hasImage</th>\n",
       "    </tr>\n",
       "  </thead>\n",
       "  <tbody>\n",
       "    <tr>\n",
       "      <th>0</th>\n",
       "      <td>Barracuda Brigade</td>\n",
       "      <td>2016-10-26T21:41:00.000+03:00</td>\n",
       "      <td>muslims busted they stole millions in govt ben...</td>\n",
       "      <td>print they should pay all the back all the mon...</td>\n",
       "      <td>english</td>\n",
       "      <td>100percentfedup.com</td>\n",
       "      <td>http://bb4sp.com/wp-content/uploads/2016/10/Fu...</td>\n",
       "      <td>bias</td>\n",
       "      <td>Real</td>\n",
       "      <td>muslims busted stole millions govt benefits</td>\n",
       "      <td>print pay back money plus interest entire fami...</td>\n",
       "      <td>1.0</td>\n",
       "    </tr>\n",
       "    <tr>\n",
       "      <th>1</th>\n",
       "      <td>reasoning with facts</td>\n",
       "      <td>2016-10-29T08:47:11.259+03:00</td>\n",
       "      <td>re why did attorney general loretta lynch plea...</td>\n",
       "      <td>why did attorney general loretta lynch plead t...</td>\n",
       "      <td>english</td>\n",
       "      <td>100percentfedup.com</td>\n",
       "      <td>http://bb4sp.com/wp-content/uploads/2016/10/Fu...</td>\n",
       "      <td>bias</td>\n",
       "      <td>Real</td>\n",
       "      <td>attorney general loretta lynch plead fifth</td>\n",
       "      <td>attorney general loretta lynch plead fifth bar...</td>\n",
       "      <td>1.0</td>\n",
       "    </tr>\n",
       "    <tr>\n",
       "      <th>2</th>\n",
       "      <td>Barracuda Brigade</td>\n",
       "      <td>2016-10-31T01:41:49.479+02:00</td>\n",
       "      <td>breaking weiner cooperating with fbi on hillar...</td>\n",
       "      <td>red state  \\nfox news sunday reported this mor...</td>\n",
       "      <td>english</td>\n",
       "      <td>100percentfedup.com</td>\n",
       "      <td>http://bb4sp.com/wp-content/uploads/2016/10/Fu...</td>\n",
       "      <td>bias</td>\n",
       "      <td>Real</td>\n",
       "      <td>breaking weiner cooperating fbi hillary email ...</td>\n",
       "      <td>red state fox news sunday reported morning ant...</td>\n",
       "      <td>1.0</td>\n",
       "    </tr>\n",
       "    <tr>\n",
       "      <th>3</th>\n",
       "      <td>Fed Up</td>\n",
       "      <td>2016-11-01T05:22:00.000+02:00</td>\n",
       "      <td>pin drop speech by father of daughter kidnappe...</td>\n",
       "      <td>email kayla mueller was a prisoner and torture...</td>\n",
       "      <td>english</td>\n",
       "      <td>100percentfedup.com</td>\n",
       "      <td>http://100percentfedup.com/wp-content/uploads/...</td>\n",
       "      <td>bias</td>\n",
       "      <td>Real</td>\n",
       "      <td>pin drop speech father daughter kidnapped kill...</td>\n",
       "      <td>email kayla mueller prisoner tortured isis cha...</td>\n",
       "      <td>1.0</td>\n",
       "    </tr>\n",
       "    <tr>\n",
       "      <th>4</th>\n",
       "      <td>Fed Up</td>\n",
       "      <td>2016-11-01T21:56:00.000+02:00</td>\n",
       "      <td>fantastic trumps  point plan to reform healthc...</td>\n",
       "      <td>email healthcare reform to make america great ...</td>\n",
       "      <td>english</td>\n",
       "      <td>100percentfedup.com</td>\n",
       "      <td>http://100percentfedup.com/wp-content/uploads/...</td>\n",
       "      <td>bias</td>\n",
       "      <td>Real</td>\n",
       "      <td>fantastic trumps point plan reform healthcare ...</td>\n",
       "      <td>email healthcare reform make america great sin...</td>\n",
       "      <td>1.0</td>\n",
       "    </tr>\n",
       "    <tr>\n",
       "      <th>...</th>\n",
       "      <td>...</td>\n",
       "      <td>...</td>\n",
       "      <td>...</td>\n",
       "      <td>...</td>\n",
       "      <td>...</td>\n",
       "      <td>...</td>\n",
       "      <td>...</td>\n",
       "      <td>...</td>\n",
       "      <td>...</td>\n",
       "      <td>...</td>\n",
       "      <td>...</td>\n",
       "      <td>...</td>\n",
       "    </tr>\n",
       "    <tr>\n",
       "      <th>2091</th>\n",
       "      <td>-NO AUTHOR-</td>\n",
       "      <td>2016-10-27T15:36:10.573+03:00</td>\n",
       "      <td>teens walk free after gangrape conviction</td>\n",
       "      <td>NaN</td>\n",
       "      <td>english</td>\n",
       "      <td>wnd.com</td>\n",
       "      <td>http://www.wnd.com/files/2016/10/hillary_haunt...</td>\n",
       "      <td>bias</td>\n",
       "      <td>Real</td>\n",
       "      <td>good samaritan wearing indian headdress disarm...</td>\n",
       "      <td>NaN</td>\n",
       "      <td>1.0</td>\n",
       "    </tr>\n",
       "    <tr>\n",
       "      <th>2092</th>\n",
       "      <td>-NO AUTHOR-</td>\n",
       "      <td>2016-10-27T15:36:10.671+03:00</td>\n",
       "      <td>school named for munichmassacre mastermind</td>\n",
       "      <td>NaN</td>\n",
       "      <td>english</td>\n",
       "      <td>wnd.com</td>\n",
       "      <td>http://www.wnd.com/files/2016/10/rambo_richard...</td>\n",
       "      <td>bias</td>\n",
       "      <td>Real</td>\n",
       "      <td>skype sex scam fortune built shame</td>\n",
       "      <td>NaN</td>\n",
       "      <td>1.0</td>\n",
       "    </tr>\n",
       "    <tr>\n",
       "      <th>2093</th>\n",
       "      <td>-NO AUTHOR-</td>\n",
       "      <td>2016-10-27T13:30:00.000+03:00</td>\n",
       "      <td>russia unveils satan  missile</td>\n",
       "      <td>NaN</td>\n",
       "      <td>english</td>\n",
       "      <td>wnd.com</td>\n",
       "      <td>http://www.wnd.com/files/2016/10/skype_sex_sca...</td>\n",
       "      <td>bs</td>\n",
       "      <td>Fake</td>\n",
       "      <td>cannabis aficionados develop thca crystalline ...</td>\n",
       "      <td>NaN</td>\n",
       "      <td>1.0</td>\n",
       "    </tr>\n",
       "    <tr>\n",
       "      <th>2094</th>\n",
       "      <td>-NO AUTHOR-</td>\n",
       "      <td>2016-10-27T15:58:41.935+03:00</td>\n",
       "      <td>check out hillarythemed haunted house</td>\n",
       "      <td>NaN</td>\n",
       "      <td>english</td>\n",
       "      <td>wnd.com</td>\n",
       "      <td>http://worldtruth.tv/wp-content/uploads/2016/1...</td>\n",
       "      <td>bs</td>\n",
       "      <td>Fake</td>\n",
       "      <td>title</td>\n",
       "      <td>NaN</td>\n",
       "      <td>0.0</td>\n",
       "    </tr>\n",
       "    <tr>\n",
       "      <th>2095</th>\n",
       "      <td>Eddy Lavine</td>\n",
       "      <td>2016-10-28T01:02:00.000+03:00</td>\n",
       "      <td>cannabis aficionados develop thca crystalline ...</td>\n",
       "      <td>NaN</td>\n",
       "      <td>NaN</td>\n",
       "      <td>NaN</td>\n",
       "      <td>NaN</td>\n",
       "      <td>NaN</td>\n",
       "      <td>NaN</td>\n",
       "      <td>NaN</td>\n",
       "      <td>NaN</td>\n",
       "      <td>NaN</td>\n",
       "    </tr>\n",
       "  </tbody>\n",
       "</table>\n",
       "<p>2096 rows × 12 columns</p>\n",
       "</div>"
      ],
      "text/plain": [
       "                    author                      published  \\\n",
       "0        Barracuda Brigade  2016-10-26T21:41:00.000+03:00   \n",
       "1     reasoning with facts  2016-10-29T08:47:11.259+03:00   \n",
       "2        Barracuda Brigade  2016-10-31T01:41:49.479+02:00   \n",
       "3                   Fed Up  2016-11-01T05:22:00.000+02:00   \n",
       "4                   Fed Up  2016-11-01T21:56:00.000+02:00   \n",
       "...                    ...                            ...   \n",
       "2091           -NO AUTHOR-  2016-10-27T15:36:10.573+03:00   \n",
       "2092           -NO AUTHOR-  2016-10-27T15:36:10.671+03:00   \n",
       "2093           -NO AUTHOR-  2016-10-27T13:30:00.000+03:00   \n",
       "2094           -NO AUTHOR-  2016-10-27T15:58:41.935+03:00   \n",
       "2095           Eddy Lavine  2016-10-28T01:02:00.000+03:00   \n",
       "\n",
       "                                                  title  \\\n",
       "0     muslims busted they stole millions in govt ben...   \n",
       "1     re why did attorney general loretta lynch plea...   \n",
       "2     breaking weiner cooperating with fbi on hillar...   \n",
       "3     pin drop speech by father of daughter kidnappe...   \n",
       "4     fantastic trumps  point plan to reform healthc...   \n",
       "...                                                 ...   \n",
       "2091          teens walk free after gangrape conviction   \n",
       "2092         school named for munichmassacre mastermind   \n",
       "2093                      russia unveils satan  missile   \n",
       "2094              check out hillarythemed haunted house   \n",
       "2095  cannabis aficionados develop thca crystalline ...   \n",
       "\n",
       "                                                   text language  \\\n",
       "0     print they should pay all the back all the mon...  english   \n",
       "1     why did attorney general loretta lynch plead t...  english   \n",
       "2     red state  \\nfox news sunday reported this mor...  english   \n",
       "3     email kayla mueller was a prisoner and torture...  english   \n",
       "4     email healthcare reform to make america great ...  english   \n",
       "...                                                 ...      ...   \n",
       "2091                                                NaN  english   \n",
       "2092                                                NaN  english   \n",
       "2093                                                NaN  english   \n",
       "2094                                                NaN  english   \n",
       "2095                                                NaN      NaN   \n",
       "\n",
       "                 site_url                                       main_img_url  \\\n",
       "0     100percentfedup.com  http://bb4sp.com/wp-content/uploads/2016/10/Fu...   \n",
       "1     100percentfedup.com  http://bb4sp.com/wp-content/uploads/2016/10/Fu...   \n",
       "2     100percentfedup.com  http://bb4sp.com/wp-content/uploads/2016/10/Fu...   \n",
       "3     100percentfedup.com  http://100percentfedup.com/wp-content/uploads/...   \n",
       "4     100percentfedup.com  http://100percentfedup.com/wp-content/uploads/...   \n",
       "...                   ...                                                ...   \n",
       "2091              wnd.com  http://www.wnd.com/files/2016/10/hillary_haunt...   \n",
       "2092              wnd.com  http://www.wnd.com/files/2016/10/rambo_richard...   \n",
       "2093              wnd.com  http://www.wnd.com/files/2016/10/skype_sex_sca...   \n",
       "2094              wnd.com  http://worldtruth.tv/wp-content/uploads/2016/1...   \n",
       "2095                  NaN                                                NaN   \n",
       "\n",
       "      type label                            title_without_stopwords  \\\n",
       "0     bias  Real        muslims busted stole millions govt benefits   \n",
       "1     bias  Real         attorney general loretta lynch plead fifth   \n",
       "2     bias  Real  breaking weiner cooperating fbi hillary email ...   \n",
       "3     bias  Real  pin drop speech father daughter kidnapped kill...   \n",
       "4     bias  Real  fantastic trumps point plan reform healthcare ...   \n",
       "...    ...   ...                                                ...   \n",
       "2091  bias  Real  good samaritan wearing indian headdress disarm...   \n",
       "2092  bias  Real                 skype sex scam fortune built shame   \n",
       "2093    bs  Fake  cannabis aficionados develop thca crystalline ...   \n",
       "2094    bs  Fake                                              title   \n",
       "2095   NaN   NaN                                                NaN   \n",
       "\n",
       "                                 text_without_stopwords  hasImage  \n",
       "0     print pay back money plus interest entire fami...       1.0  \n",
       "1     attorney general loretta lynch plead fifth bar...       1.0  \n",
       "2     red state fox news sunday reported morning ant...       1.0  \n",
       "3     email kayla mueller prisoner tortured isis cha...       1.0  \n",
       "4     email healthcare reform make america great sin...       1.0  \n",
       "...                                                 ...       ...  \n",
       "2091                                                NaN       1.0  \n",
       "2092                                                NaN       1.0  \n",
       "2093                                                NaN       1.0  \n",
       "2094                                                NaN       0.0  \n",
       "2095                                                NaN       NaN  \n",
       "\n",
       "[2096 rows x 12 columns]"
      ]
     },
     "execution_count": 31,
     "metadata": {},
     "output_type": "execute_result"
    }
   ],
   "source": [
    "data"
   ]
  },
  {
   "cell_type": "code",
   "execution_count": 14,
   "id": "2a76da38-8c55-450f-a7ed-b9931272997a",
   "metadata": {
    "tags": []
   },
   "outputs": [
    {
     "data": {
      "text/plain": [
       "author                      0\n",
       "published                   0\n",
       "title                       0\n",
       "text                       46\n",
       "language                    1\n",
       "site_url                    1\n",
       "main_img_url                1\n",
       "type                        1\n",
       "label                       1\n",
       "title_without_stopwords     2\n",
       "text_without_stopwords     50\n",
       "hasImage                    1\n",
       "dtype: int64"
      ]
     },
     "execution_count": 14,
     "metadata": {},
     "output_type": "execute_result"
    }
   ],
   "source": [
    "data.isnull().sum()"
   ]
  },
  {
   "cell_type": "code",
   "execution_count": 35,
   "id": "0a1f4716-8a57-421b-b438-c0b3ee3f645d",
   "metadata": {
    "tags": []
   },
   "outputs": [
    {
     "data": {
      "text/plain": [
       "Fake    1294\n",
       "Real     801\n",
       "Name: label, dtype: int64"
      ]
     },
     "execution_count": 35,
     "metadata": {},
     "output_type": "execute_result"
    }
   ],
   "source": [
    "data.label.value_counts()"
   ]
  },
  {
   "cell_type": "code",
   "execution_count": 15,
   "id": "dc574e74-a5c5-41b0-97af-b9b5f4bdaa1b",
   "metadata": {},
   "outputs": [],
   "source": [
    "df_text_label = data[['text','label']]"
   ]
  },
  {
   "cell_type": "code",
   "execution_count": 18,
   "id": "35d0ab1b-bcf5-4dbe-8731-6e6ad949abc4",
   "metadata": {
    "tags": []
   },
   "outputs": [
    {
     "data": {
      "text/plain": [
       "(2096, 2)"
      ]
     },
     "execution_count": 18,
     "metadata": {},
     "output_type": "execute_result"
    }
   ],
   "source": [
    "df_text_label.shape"
   ]
  },
  {
   "cell_type": "code",
   "execution_count": 20,
   "id": "c6bfd0f4-7b5d-496b-b7ae-fb4dd8798264",
   "metadata": {
    "tags": []
   },
   "outputs": [],
   "source": [
    "df_text_label = df_text_label.dropna(subset=[\"text\"])"
   ]
  },
  {
   "cell_type": "code",
   "execution_count": 21,
   "id": "bdb13cee-2be0-4a76-a807-f3fac6e1e124",
   "metadata": {
    "tags": []
   },
   "outputs": [
    {
     "name": "stderr",
     "output_type": "stream",
     "text": [
      "C:\\Users\\mynam\\AppData\\Local\\Temp\\ipykernel_12184\\3659653123.py:1: SettingWithCopyWarning: \n",
      "A value is trying to be set on a copy of a slice from a DataFrame.\n",
      "Try using .loc[row_indexer,col_indexer] = value instead\n",
      "\n",
      "See the caveats in the documentation: https://pandas.pydata.org/pandas-docs/stable/user_guide/indexing.html#returning-a-view-versus-a-copy\n",
      "  df_text_label['text_vector'] = df_text_label['text'].apply(lambda x: nlp(x).vector)\n"
     ]
    }
   ],
   "source": [
    "df_text_label['text_vector'] = df_text_label['text'].apply(lambda x: nlp(x).vector)"
   ]
  },
  {
   "cell_type": "code",
   "execution_count": 22,
   "id": "80601fb1-63d7-48c7-af48-014b4caf42a5",
   "metadata": {
    "tags": []
   },
   "outputs": [
    {
     "data": {
      "text/html": [
       "<div>\n",
       "<style scoped>\n",
       "    .dataframe tbody tr th:only-of-type {\n",
       "        vertical-align: middle;\n",
       "    }\n",
       "\n",
       "    .dataframe tbody tr th {\n",
       "        vertical-align: top;\n",
       "    }\n",
       "\n",
       "    .dataframe thead th {\n",
       "        text-align: right;\n",
       "    }\n",
       "</style>\n",
       "<table border=\"1\" class=\"dataframe\">\n",
       "  <thead>\n",
       "    <tr style=\"text-align: right;\">\n",
       "      <th></th>\n",
       "      <th>text</th>\n",
       "      <th>label</th>\n",
       "      <th>text_vector</th>\n",
       "    </tr>\n",
       "  </thead>\n",
       "  <tbody>\n",
       "    <tr>\n",
       "      <th>0</th>\n",
       "      <td>print they should pay all the back all the mon...</td>\n",
       "      <td>Real</td>\n",
       "      <td>[-2.039584, 0.94853497, -3.2389774, 0.69341654...</td>\n",
       "    </tr>\n",
       "    <tr>\n",
       "      <th>1</th>\n",
       "      <td>why did attorney general loretta lynch plead t...</td>\n",
       "      <td>Real</td>\n",
       "      <td>[-1.5572332, 1.2933079, -2.2639158, 0.28888497...</td>\n",
       "    </tr>\n",
       "    <tr>\n",
       "      <th>2</th>\n",
       "      <td>red state  \\nfox news sunday reported this mor...</td>\n",
       "      <td>Real</td>\n",
       "      <td>[-1.509511, 1.1297165, -2.2754374, 0.3095904, ...</td>\n",
       "    </tr>\n",
       "    <tr>\n",
       "      <th>3</th>\n",
       "      <td>email kayla mueller was a prisoner and torture...</td>\n",
       "      <td>Real</td>\n",
       "      <td>[-2.0995321, 1.7238559, -2.7781312, -0.1512340...</td>\n",
       "    </tr>\n",
       "    <tr>\n",
       "      <th>4</th>\n",
       "      <td>email healthcare reform to make america great ...</td>\n",
       "      <td>Real</td>\n",
       "      <td>[-1.6003742, 1.6297426, -3.3002098, 0.3715292,...</td>\n",
       "    </tr>\n",
       "    <tr>\n",
       "      <th>...</th>\n",
       "      <td>...</td>\n",
       "      <td>...</td>\n",
       "      <td>...</td>\n",
       "    </tr>\n",
       "    <tr>\n",
       "      <th>2045</th>\n",
       "      <td>check out hillarythemed haunted house anticlin...</td>\n",
       "      <td>Real</td>\n",
       "      <td>[-1.6305768, 0.6174224, -1.8615298, 0.41419318...</td>\n",
       "    </tr>\n",
       "    <tr>\n",
       "      <th>2046</th>\n",
       "      <td>good samaritan wearing indian headdress disarm...</td>\n",
       "      <td>Real</td>\n",
       "      <td>[-1.6617054, 1.2676342, -2.3670604, -0.0365081...</td>\n",
       "    </tr>\n",
       "    <tr>\n",
       "      <th>2047</th>\n",
       "      <td>skype sex scam  a fortune built on shame moroc...</td>\n",
       "      <td>Real</td>\n",
       "      <td>[-0.7206704, 0.91916186, -2.292637, -1.2136545...</td>\n",
       "    </tr>\n",
       "    <tr>\n",
       "      <th>2048</th>\n",
       "      <td>posted by eddie while the skyhigh potency may ...</td>\n",
       "      <td>Real</td>\n",
       "      <td>[-1.5623219, 0.92681843, -2.012905, 0.29814616...</td>\n",
       "    </tr>\n",
       "    <tr>\n",
       "      <th>2049</th>\n",
       "      <td>billion even after they are known to be keepin...</td>\n",
       "      <td>Real</td>\n",
       "      <td>[-1.6706682, 1.9696559, -2.9506428, -0.5870788...</td>\n",
       "    </tr>\n",
       "  </tbody>\n",
       "</table>\n",
       "<p>2050 rows × 3 columns</p>\n",
       "</div>"
      ],
      "text/plain": [
       "                                                   text label  \\\n",
       "0     print they should pay all the back all the mon...  Real   \n",
       "1     why did attorney general loretta lynch plead t...  Real   \n",
       "2     red state  \\nfox news sunday reported this mor...  Real   \n",
       "3     email kayla mueller was a prisoner and torture...  Real   \n",
       "4     email healthcare reform to make america great ...  Real   \n",
       "...                                                 ...   ...   \n",
       "2045  check out hillarythemed haunted house anticlin...  Real   \n",
       "2046  good samaritan wearing indian headdress disarm...  Real   \n",
       "2047  skype sex scam  a fortune built on shame moroc...  Real   \n",
       "2048  posted by eddie while the skyhigh potency may ...  Real   \n",
       "2049  billion even after they are known to be keepin...  Real   \n",
       "\n",
       "                                            text_vector  \n",
       "0     [-2.039584, 0.94853497, -3.2389774, 0.69341654...  \n",
       "1     [-1.5572332, 1.2933079, -2.2639158, 0.28888497...  \n",
       "2     [-1.509511, 1.1297165, -2.2754374, 0.3095904, ...  \n",
       "3     [-2.0995321, 1.7238559, -2.7781312, -0.1512340...  \n",
       "4     [-1.6003742, 1.6297426, -3.3002098, 0.3715292,...  \n",
       "...                                                 ...  \n",
       "2045  [-1.6305768, 0.6174224, -1.8615298, 0.41419318...  \n",
       "2046  [-1.6617054, 1.2676342, -2.3670604, -0.0365081...  \n",
       "2047  [-0.7206704, 0.91916186, -2.292637, -1.2136545...  \n",
       "2048  [-1.5623219, 0.92681843, -2.012905, 0.29814616...  \n",
       "2049  [-1.6706682, 1.9696559, -2.9506428, -0.5870788...  \n",
       "\n",
       "[2050 rows x 3 columns]"
      ]
     },
     "execution_count": 22,
     "metadata": {},
     "output_type": "execute_result"
    }
   ],
   "source": [
    "df_text_label"
   ]
  },
  {
   "cell_type": "code",
   "execution_count": 23,
   "id": "eca73ede-41d9-4eaa-8ba5-161e2a6555d9",
   "metadata": {
    "tags": []
   },
   "outputs": [
    {
     "data": {
      "text/plain": [
       "Fake    1292\n",
       "Real     758\n",
       "Name: label, dtype: int64"
      ]
     },
     "execution_count": 23,
     "metadata": {},
     "output_type": "execute_result"
    }
   ],
   "source": [
    "df_text_label.label.value_counts()"
   ]
  },
  {
   "cell_type": "code",
   "execution_count": 67,
   "id": "fea52e0f-a7e9-43df-8f76-5471a5663c17",
   "metadata": {
    "tags": []
   },
   "outputs": [],
   "source": [
    "from sklearn.preprocessing import LabelEncoder\n",
    "labeler = LabelEncoder()"
   ]
  },
  {
   "cell_type": "code",
   "execution_count": 71,
   "id": "978d1ed6-1819-44de-a5a3-6bdc698c4e1e",
   "metadata": {
    "tags": []
   },
   "outputs": [
    {
     "data": {
      "text/plain": [
       "array(['Real', 'Fake'], dtype=object)"
      ]
     },
     "execution_count": 71,
     "metadata": {},
     "output_type": "execute_result"
    }
   ],
   "source": [
    "df_text_label.label.unique()"
   ]
  },
  {
   "cell_type": "code",
   "execution_count": 72,
   "id": "1a01f1f2-6cf3-4d08-aebe-1b82a66396e9",
   "metadata": {
    "tags": []
   },
   "outputs": [
    {
     "name": "stderr",
     "output_type": "stream",
     "text": [
      "C:\\Users\\mynam\\AppData\\Local\\Temp\\ipykernel_12184\\2706905395.py:1: SettingWithCopyWarning: \n",
      "A value is trying to be set on a copy of a slice from a DataFrame.\n",
      "Try using .loc[row_indexer,col_indexer] = value instead\n",
      "\n",
      "See the caveats in the documentation: https://pandas.pydata.org/pandas-docs/stable/user_guide/indexing.html#returning-a-view-versus-a-copy\n",
      "  df_text_label.label = labeler.fit_transform(df_text_label.label)\n"
     ]
    }
   ],
   "source": [
    "df_text_label.label = labeler.fit_transform(df_text_label.label)"
   ]
  },
  {
   "cell_type": "code",
   "execution_count": 73,
   "id": "897131e7-f29b-4f29-9a40-e0459e2cf2b0",
   "metadata": {
    "tags": []
   },
   "outputs": [],
   "source": [
    "from sklearn.model_selection import train_test_split"
   ]
  },
  {
   "cell_type": "code",
   "execution_count": 74,
   "id": "3be8c1c3-f3e3-46a1-8d3a-d3059a97ef1e",
   "metadata": {
    "tags": []
   },
   "outputs": [
    {
     "data": {
      "text/plain": [
       "0       [-2.039584, 0.94853497, -3.2389774, 0.69341654...\n",
       "1       [-1.5572332, 1.2933079, -2.2639158, 0.28888497...\n",
       "2       [-1.509511, 1.1297165, -2.2754374, 0.3095904, ...\n",
       "3       [-2.0995321, 1.7238559, -2.7781312, -0.1512340...\n",
       "4       [-1.6003742, 1.6297426, -3.3002098, 0.3715292,...\n",
       "                              ...                        \n",
       "2045    [-1.6305768, 0.6174224, -1.8615298, 0.41419318...\n",
       "2046    [-1.6617054, 1.2676342, -2.3670604, -0.0365081...\n",
       "2047    [-0.7206704, 0.91916186, -2.292637, -1.2136545...\n",
       "2048    [-1.5623219, 0.92681843, -2.012905, 0.29814616...\n",
       "2049    [-1.6706682, 1.9696559, -2.9506428, -0.5870788...\n",
       "Name: text_vector, Length: 2050, dtype: object"
      ]
     },
     "execution_count": 74,
     "metadata": {},
     "output_type": "execute_result"
    }
   ],
   "source": [
    "df_text_label.text_vector"
   ]
  },
  {
   "cell_type": "code",
   "execution_count": 75,
   "id": "474290e2-2fc7-4c78-9df3-f4d3f2b2fd2a",
   "metadata": {
    "tags": []
   },
   "outputs": [],
   "source": [
    "X_train , X_test , y_train , y_test = train_test_split(df_text_label.text_vector.values,df_text_label.label.values,test_size=0.15,random_state=0)"
   ]
  },
  {
   "cell_type": "code",
   "execution_count": 76,
   "id": "1db4a36c-b75f-4882-a73a-8b568cb6b3fb",
   "metadata": {
    "tags": []
   },
   "outputs": [
    {
     "data": {
      "text/plain": [
       "((1742,), (308,), (1742,), (308,))"
      ]
     },
     "execution_count": 76,
     "metadata": {},
     "output_type": "execute_result"
    }
   ],
   "source": [
    "X_train.shape , X_test.shape , y_train.shape , y_test.shape"
   ]
  },
  {
   "cell_type": "code",
   "execution_count": 77,
   "id": "ec42b705-c347-444f-a144-d098f3457913",
   "metadata": {
    "tags": []
   },
   "outputs": [
    {
     "data": {
      "text/plain": [
       "array([0, 0, 1, ..., 1, 1, 0])"
      ]
     },
     "execution_count": 77,
     "metadata": {},
     "output_type": "execute_result"
    }
   ],
   "source": [
    "y_train"
   ]
  },
  {
   "cell_type": "code",
   "execution_count": 78,
   "id": "05065b31-43f7-466f-ba46-f14d2da3f736",
   "metadata": {
    "tags": []
   },
   "outputs": [
    {
     "data": {
      "text/plain": [
       "array([array([-1.9322085 ,  0.8197541 , -2.3390656 ,  0.48498636,  3.5125785 ,\n",
       "               0.4427456 ,  0.44661385,  3.8699377 , -0.35719317, -0.32338837,\n",
       "               5.243764  ,  1.4936403 , -3.2240639 ,  0.95892316,  0.61660796,\n",
       "               1.5725229 ,  1.2491009 , -0.2936252 , -0.70328474, -1.5687038 ,\n",
       "               1.1158836 , -1.2052073 , -0.8178874 , -0.77574116,  0.25461674,\n",
       "              -1.2492088 , -2.1075742 , -0.58319294, -0.68614554,  0.90392363,\n",
       "               0.89266866, -0.02411817, -0.5671862 , -1.6608628 , -1.8365535 ,\n",
       "              -0.32851034, -0.7440571 ,  1.6127532 ,  1.2750299 ,  0.45637387,\n",
       "              -0.23491597,  0.6148193 , -0.0428322 ,  0.01086433, -0.9548754 ,\n",
       "               0.8585477 ,  0.5216357 , -2.5665994 , -0.6263432 ,  2.5113826 ,\n",
       "              -1.0229428 ,  1.721892  ,  0.06081681, -3.9807065 , -0.9607602 ,\n",
       "               0.2906941 ,  0.5611573 ,  1.0389366 ,  0.9055111 ,  0.20932573,\n",
       "               1.175886  , -0.70221645,  0.12292796, -1.4341782 ,  1.3415475 ,\n",
       "               0.73610824, -1.9370829 , -2.510105  ,  0.76169556,  2.0052304 ,\n",
       "              -0.22906937,  0.02974537, -1.8815511 , -0.21092308, -0.14016704,\n",
       "               0.8996607 , -2.6690826 ,  2.785652  , -2.8728209 , -0.67537504,\n",
       "              -3.6952426 , -0.32854888,  1.2543125 ,  1.1291667 ,  2.0740852 ,\n",
       "               0.72952604, -1.775031  , -2.3361402 ,  1.4602934 , -0.88982165,\n",
       "              -0.7842065 , -0.58733493,  1.8089544 , -3.1426446 ,  0.9302867 ,\n",
       "              -1.1666641 ,  1.2221131 , -0.8266635 ,  0.84449464,  1.1687455 ,\n",
       "               1.8780079 ,  1.268791  ,  2.178044  ,  2.0119402 , -0.34601325,\n",
       "               3.0602045 , -0.33639365, -2.060285  , -0.48924476, -2.5375373 ,\n",
       "               0.78258556,  0.6972038 , -1.0400426 ,  0.76758164,  0.9156043 ,\n",
       "               0.49035987, -1.1839881 , -0.30799183,  0.5228069 , -0.74041677,\n",
       "              -1.146872  , -2.5309348 ,  0.11218806,  0.9780379 , -0.9914453 ,\n",
       "              -2.628092  ,  1.0903176 , -1.5089374 ,  2.0935376 , -1.0789654 ,\n",
       "              -1.7266695 , -0.354033  ,  3.1093943 , -0.4989    ,  0.10972162,\n",
       "               0.8951638 , -1.4875371 , -0.54997766,  2.6337183 , -1.692113  ,\n",
       "              -2.1810486 , -0.5954166 ,  0.14247164,  1.1676941 ,  1.3790785 ,\n",
       "               0.64006215, -3.0741606 ,  0.43022725,  1.0167272 ,  1.1224959 ,\n",
       "              -0.01645253,  2.2026665 ,  0.18306723,  1.0823351 , -1.2847465 ,\n",
       "               1.0294038 ,  2.366208  , -0.7640937 , -2.3256335 , -0.73323655,\n",
       "              -0.81941354, -2.356214  ,  0.1751497 ,  1.2562431 , -2.1715503 ,\n",
       "              -1.2165635 , -2.8948083 ,  1.1613762 , -0.03172388,  0.23857212,\n",
       "               0.7610497 , -0.243804  ,  1.8162701 ,  0.92497534,  1.2728869 ,\n",
       "              -0.25835156, -0.5548753 , -0.052413  , -1.8335538 , -1.5019995 ,\n",
       "              -0.77587765, -0.09223541,  1.5770704 , -0.16425335, -0.48763958,\n",
       "              -0.08480232, -1.3102083 , -0.3157951 ,  1.2276694 ,  1.5386955 ,\n",
       "              -0.20078234, -0.87398154,  0.13526243, -1.3225267 , -0.12340463,\n",
       "               0.24825759, -2.5743115 ,  0.01736457,  0.00578876,  1.0588495 ,\n",
       "              -1.1694403 , -1.7604905 , -1.1030238 , -1.7638566 ,  2.267379  ,\n",
       "               0.8813334 , -3.0166652 ,  1.0955013 , -0.15765852,  0.01475761,\n",
       "               1.0577295 ,  1.1223891 , -1.0588456 ,  1.7417618 ,  1.0045311 ,\n",
       "               2.07018   ,  0.47295082, -1.7506996 , -0.61576134, -0.14123127,\n",
       "              -2.003058  ,  1.1591976 ,  0.3067733 ,  0.8001409 , -1.9679024 ,\n",
       "              -0.9648259 ,  0.54084635,  2.5672922 ,  1.409473  ,  0.576953  ,\n",
       "               1.8077211 , -2.1563427 , -0.84849864,  1.8000778 ,  1.6487423 ,\n",
       "               1.3051273 , -1.5572103 ,  0.7845735 , -0.9313618 , -0.3547825 ,\n",
       "              -0.8345996 ,  0.43248147,  1.1534858 ,  0.30216214, -0.9373664 ,\n",
       "               1.1009557 , -2.4134936 ,  0.05140176,  0.9289419 ,  2.1993794 ,\n",
       "               0.44334757, -2.3092415 , -4.493118  , -0.04858962,  0.6774722 ,\n",
       "              -2.0892682 ,  1.8221189 ,  0.15542139, -0.26566687,  1.2470903 ,\n",
       "               0.88145834,  4.4105635 ,  2.427672  ,  1.4418235 ,  1.7633498 ,\n",
       "              -0.44578815,  0.17073806,  2.2696457 , -2.8599916 ,  0.5515844 ,\n",
       "               0.89299834, -1.00238   ,  0.08461101, -2.1989584 ,  0.416568  ,\n",
       "              -0.6695919 ,  1.3714902 , -0.87343866, -1.1715369 ,  1.8165578 ,\n",
       "               0.25113362,  0.1741293 ,  0.8582831 ,  1.5230511 ,  2.549439  ,\n",
       "              -0.9602933 , -0.5046347 ,  1.3696045 , -1.4329798 ,  0.17651102,\n",
       "               0.7609164 , -0.66102076, -0.15578921,  0.10506668, -1.4805454 ,\n",
       "               0.86245054,  0.24055538, -0.8741913 , -2.707102  ,  0.6472856 ],\n",
       "             dtype=float32)                                                    ,\n",
       "       array([-2.1510916 , -0.16955067, -0.65845734, -0.0425026 ,  4.852125  ,\n",
       "               1.2060616 ,  0.5022256 ,  4.090867  , -0.38501254, -1.2679167 ,\n",
       "               5.782472  ,  1.6491327 , -3.9499857 ,  1.4322795 ,  1.0613654 ,\n",
       "               1.734332  ,  0.22794081,  0.72432756, -0.7273712 , -1.521511  ,\n",
       "               0.13663073, -0.48300335, -3.5819988 ,  1.2264727 , -0.27011043,\n",
       "              -0.3783512 ,  0.13124226, -0.69878983, -0.7642702 ,  1.3941939 ,\n",
       "               1.1735538 , -0.07098225, -2.0629654 , -2.614625  , -1.5589933 ,\n",
       "               0.28437522, -1.2895323 ,  1.9008249 ,  1.2709862 ,  0.5368951 ,\n",
       "              -0.49599904,  0.60421324, -0.85257095,  1.2286737 , -2.3857963 ,\n",
       "               2.3682978 ,  1.935153  , -1.8406851 ,  0.573374  ,  1.0342975 ,\n",
       "              -1.283376  ,  2.326703  ,  0.5916867 , -5.1113434 , -0.8698679 ,\n",
       "               1.4104918 , -0.43802613,  1.631063  ,  1.366795  , -0.3099277 ,\n",
       "               0.15289293, -1.0342088 ,  0.01024307, -1.6554112 ,  1.4527699 ,\n",
       "               2.0037344 , -2.464919  , -2.7349355 ,  0.7550866 ,  2.41833   ,\n",
       "              -0.9538427 ,  0.46197814, -2.6872396 , -0.47057223, -0.13533281,\n",
       "               0.6695202 , -3.133809  ,  2.7216425 , -2.1052086 ,  1.2325721 ,\n",
       "              -4.407424  ,  1.1444964 ,  1.2503983 ,  1.3349576 ,  2.0437448 ,\n",
       "               0.46084312, -2.9724295 , -2.5663192 ,  0.7818764 , -0.13039815,\n",
       "              -1.3549173 ,  0.13418408,  1.8629478 , -2.8706076 , -0.49182284,\n",
       "              -1.4676278 ,  0.40590084, -1.2187134 , -0.59801817,  1.596221  ,\n",
       "               2.2326534 ,  1.0651047 ,  2.3194678 ,  3.0367098 , -1.1628586 ,\n",
       "               4.7245736 ,  0.86254364, -2.0791292 , -0.26580772, -1.9863493 ,\n",
       "               1.6462395 ,  0.45087564, -2.194277  ,  0.20339103,  0.29053485,\n",
       "               1.291489  , -0.6291373 ,  1.1480472 , -1.2370632 , -1.2716835 ,\n",
       "              -1.3484553 , -1.940626  ,  0.5985091 ,  0.23221666, -2.1430943 ,\n",
       "              -4.2319875 , -0.4090057 , -2.9693375 ,  3.7223926 , -0.1004521 ,\n",
       "              -1.8257637 , -0.32612664,  3.2058764 , -0.59536886,  0.71865845,\n",
       "               1.8657107 , -1.891456  , -0.96341074,  1.952057  , -2.3345518 ,\n",
       "              -1.4010254 , -0.10586851,  0.75403696,  0.89950675,  1.7496386 ,\n",
       "              -0.25840312, -2.7091515 , -0.6717179 ,  0.90968496,  1.6911582 ,\n",
       "               1.1876355 ,  1.6683694 ,  0.10360415,  2.4633286 , -1.4639713 ,\n",
       "               0.3632866 ,  1.8531806 , -0.02162665, -1.6150073 , -1.4661756 ,\n",
       "              -0.7357451 , -0.71044594,  0.7192751 ,  1.7058142 , -1.9711536 ,\n",
       "              -1.6504902 , -2.5502691 ,  1.1016536 ,  0.60520244,  0.07799537,\n",
       "               0.25687104, -1.4677199 ,  1.5097466 ,  0.05768554,  0.75314295,\n",
       "              -0.36170542,  0.66172546,  1.5315572 , -2.2639956 , -1.3419069 ,\n",
       "              -0.6950148 , -0.6468218 ,  1.7288067 , -0.86908853, -0.11203046,\n",
       "              -0.8579033 , -1.7133131 ,  0.9676826 ,  0.7361996 ,  1.3316597 ,\n",
       "              -0.40765607, -1.5275254 ,  0.25394905, -1.4791265 ,  0.6325191 ,\n",
       "               1.8550515 , -3.087085  ,  0.94237155,  1.177026  ,  0.78411275,\n",
       "              -0.56786084, -2.2954059 , -0.47847348, -1.7408975 ,  4.00585   ,\n",
       "               1.5411114 , -3.711184  ,  1.8633152 ,  1.4539741 , -0.51907974,\n",
       "               1.7421013 ,  0.9399344 , -1.1496557 ,  0.7429945 ,  0.9165947 ,\n",
       "               1.5402331 ,  0.3880852 , -2.7428236 , -0.5941826 , -0.50001174,\n",
       "              -0.98961943,  1.4097075 ,  0.08757396,  0.04449582, -2.648978  ,\n",
       "              -0.24435897, -0.3995    ,  2.1552896 ,  1.8117456 ,  0.77682996,\n",
       "               2.2266293 , -1.8885295 ,  0.05626655,  1.5764612 ,  1.3728966 ,\n",
       "               3.1892633 , -0.08141051,  1.0880888 , -0.21525382, -0.23403606,\n",
       "              -1.9626918 ,  0.15348452,  0.18975407,  1.800612  , -1.0678303 ,\n",
       "               0.10049701, -3.4141169 ,  0.11430914, -0.24539497,  3.0181198 ,\n",
       "               0.6838887 , -3.006985  , -4.9041877 , -0.17304133,  0.80940545,\n",
       "              -2.4273605 ,  1.3632758 , -0.07036263, -0.3207087 ,  1.1507406 ,\n",
       "              -0.82219094,  4.860597  ,  1.4963897 ,  1.7638937 ,  1.7206395 ,\n",
       "              -0.25235134,  0.13121001,  1.8820387 , -2.2102358 ,  0.53487325,\n",
       "               1.1819552 , -0.634973  ,  1.2130641 , -2.4921827 ,  0.84986424,\n",
       "               0.03800692,  1.4028668 , -0.21644129, -0.01677578,  2.112323  ,\n",
       "               1.669734  ,  0.24875191,  1.5815169 ,  0.10288399,  1.8850015 ,\n",
       "              -0.79835504, -0.02236165,  1.5816351 , -0.3043527 ,  0.5853916 ,\n",
       "               1.3088433 , -0.31481743,  0.1064178 , -0.9406934 , -1.309711  ,\n",
       "               0.35564247,  0.18771322, -2.7112653 , -1.249222  ,  0.39216155],\n",
       "             dtype=float32)                                                    ],\n",
       "      dtype=object)"
      ]
     },
     "execution_count": 78,
     "metadata": {},
     "output_type": "execute_result"
    }
   ],
   "source": [
    "X_train[:2]"
   ]
  },
  {
   "cell_type": "code",
   "execution_count": 79,
   "id": "686b0edf-21dd-48f0-871d-774f57903c0d",
   "metadata": {
    "tags": []
   },
   "outputs": [],
   "source": [
    "# as the model demands input vector in a proper 2d array so we need to change it it in proper format \n",
    "X_train_2d = np.stack(X_train) \n",
    "X_test_2d = np.stack(X_test)"
   ]
  },
  {
   "cell_type": "code",
   "execution_count": 94,
   "id": "b71876ce-3367-4d4d-8c83-069140115849",
   "metadata": {
    "tags": []
   },
   "outputs": [],
   "source": [
    "# X_train_2d"
   ]
  },
  {
   "cell_type": "code",
   "execution_count": 87,
   "id": "0a1f0378-0385-4120-aec6-91c0ad2147b6",
   "metadata": {
    "tags": []
   },
   "outputs": [],
   "source": [
    "from sklearn.preprocessing import MinMaxScaler\n",
    "from sklearn.naive_bayes import MultinomialNB,BernoulliNB"
   ]
  },
  {
   "cell_type": "code",
   "execution_count": 82,
   "id": "b4ec3543-5074-43db-b4b8-0b765d25b831",
   "metadata": {
    "tags": []
   },
   "outputs": [],
   "source": [
    "scaler = MinMaxScaler()\n",
    "x_train = scaler.fit_transform(X_train_2d)\n",
    "x_test = scaler.transform(X_test_2d)"
   ]
  },
  {
   "cell_type": "code",
   "execution_count": 98,
   "id": "ca656f4f-fd42-4e88-a0e3-62d5a3b24e88",
   "metadata": {
    "tags": []
   },
   "outputs": [],
   "source": [
    "# x_train\n",
    "# x_test"
   ]
  },
  {
   "cell_type": "code",
   "execution_count": 88,
   "id": "6dba37c5-061f-4644-b08c-7c064942f5b4",
   "metadata": {
    "tags": []
   },
   "outputs": [],
   "source": [
    "clasifr = MultinomialNB()\n",
    "cls_1 = BernoulliNB()"
   ]
  },
  {
   "cell_type": "code",
   "execution_count": 89,
   "id": "22eab90e-beb7-48e0-b1b9-bd1f8e1b2023",
   "metadata": {
    "tags": []
   },
   "outputs": [
    {
     "data": {
      "text/html": [
       "<style>#sk-container-id-3 {color: black;background-color: white;}#sk-container-id-3 pre{padding: 0;}#sk-container-id-3 div.sk-toggleable {background-color: white;}#sk-container-id-3 label.sk-toggleable__label {cursor: pointer;display: block;width: 100%;margin-bottom: 0;padding: 0.3em;box-sizing: border-box;text-align: center;}#sk-container-id-3 label.sk-toggleable__label-arrow:before {content: \"▸\";float: left;margin-right: 0.25em;color: #696969;}#sk-container-id-3 label.sk-toggleable__label-arrow:hover:before {color: black;}#sk-container-id-3 div.sk-estimator:hover label.sk-toggleable__label-arrow:before {color: black;}#sk-container-id-3 div.sk-toggleable__content {max-height: 0;max-width: 0;overflow: hidden;text-align: left;background-color: #f0f8ff;}#sk-container-id-3 div.sk-toggleable__content pre {margin: 0.2em;color: black;border-radius: 0.25em;background-color: #f0f8ff;}#sk-container-id-3 input.sk-toggleable__control:checked~div.sk-toggleable__content {max-height: 200px;max-width: 100%;overflow: auto;}#sk-container-id-3 input.sk-toggleable__control:checked~label.sk-toggleable__label-arrow:before {content: \"▾\";}#sk-container-id-3 div.sk-estimator input.sk-toggleable__control:checked~label.sk-toggleable__label {background-color: #d4ebff;}#sk-container-id-3 div.sk-label input.sk-toggleable__control:checked~label.sk-toggleable__label {background-color: #d4ebff;}#sk-container-id-3 input.sk-hidden--visually {border: 0;clip: rect(1px 1px 1px 1px);clip: rect(1px, 1px, 1px, 1px);height: 1px;margin: -1px;overflow: hidden;padding: 0;position: absolute;width: 1px;}#sk-container-id-3 div.sk-estimator {font-family: monospace;background-color: #f0f8ff;border: 1px dotted black;border-radius: 0.25em;box-sizing: border-box;margin-bottom: 0.5em;}#sk-container-id-3 div.sk-estimator:hover {background-color: #d4ebff;}#sk-container-id-3 div.sk-parallel-item::after {content: \"\";width: 100%;border-bottom: 1px solid gray;flex-grow: 1;}#sk-container-id-3 div.sk-label:hover label.sk-toggleable__label {background-color: #d4ebff;}#sk-container-id-3 div.sk-serial::before {content: \"\";position: absolute;border-left: 1px solid gray;box-sizing: border-box;top: 0;bottom: 0;left: 50%;z-index: 0;}#sk-container-id-3 div.sk-serial {display: flex;flex-direction: column;align-items: center;background-color: white;padding-right: 0.2em;padding-left: 0.2em;position: relative;}#sk-container-id-3 div.sk-item {position: relative;z-index: 1;}#sk-container-id-3 div.sk-parallel {display: flex;align-items: stretch;justify-content: center;background-color: white;position: relative;}#sk-container-id-3 div.sk-item::before, #sk-container-id-3 div.sk-parallel-item::before {content: \"\";position: absolute;border-left: 1px solid gray;box-sizing: border-box;top: 0;bottom: 0;left: 50%;z-index: -1;}#sk-container-id-3 div.sk-parallel-item {display: flex;flex-direction: column;z-index: 1;position: relative;background-color: white;}#sk-container-id-3 div.sk-parallel-item:first-child::after {align-self: flex-end;width: 50%;}#sk-container-id-3 div.sk-parallel-item:last-child::after {align-self: flex-start;width: 50%;}#sk-container-id-3 div.sk-parallel-item:only-child::after {width: 0;}#sk-container-id-3 div.sk-dashed-wrapped {border: 1px dashed gray;margin: 0 0.4em 0.5em 0.4em;box-sizing: border-box;padding-bottom: 0.4em;background-color: white;}#sk-container-id-3 div.sk-label label {font-family: monospace;font-weight: bold;display: inline-block;line-height: 1.2em;}#sk-container-id-3 div.sk-label-container {text-align: center;}#sk-container-id-3 div.sk-container {/* jupyter's `normalize.less` sets `[hidden] { display: none; }` but bootstrap.min.css set `[hidden] { display: none !important; }` so we also need the `!important` here to be able to override the default hidden behavior on the sphinx rendered scikit-learn.org. See: https://github.com/scikit-learn/scikit-learn/issues/21755 */display: inline-block !important;position: relative;}#sk-container-id-3 div.sk-text-repr-fallback {display: none;}</style><div id=\"sk-container-id-3\" class=\"sk-top-container\"><div class=\"sk-text-repr-fallback\"><pre>BernoulliNB()</pre><b>In a Jupyter environment, please rerun this cell to show the HTML representation or trust the notebook. <br />On GitHub, the HTML representation is unable to render, please try loading this page with nbviewer.org.</b></div><div class=\"sk-container\" hidden><div class=\"sk-item\"><div class=\"sk-estimator sk-toggleable\"><input class=\"sk-toggleable__control sk-hidden--visually\" id=\"sk-estimator-id-3\" type=\"checkbox\" checked><label for=\"sk-estimator-id-3\" class=\"sk-toggleable__label sk-toggleable__label-arrow\">BernoulliNB</label><div class=\"sk-toggleable__content\"><pre>BernoulliNB()</pre></div></div></div></div></div>"
      ],
      "text/plain": [
       "BernoulliNB()"
      ]
     },
     "execution_count": 89,
     "metadata": {},
     "output_type": "execute_result"
    }
   ],
   "source": [
    "clasifr.fit(x_train,y_train)\n",
    "cls_1.fit(x_train,y_train)"
   ]
  },
  {
   "cell_type": "code",
   "execution_count": 90,
   "id": "05e6c7ab-dba7-4ccc-82e2-35bb6266345f",
   "metadata": {
    "tags": []
   },
   "outputs": [],
   "source": [
    "y_pred = clasifr.predict(x_test)\n",
    "y_pred_ber = cls_1.predict(x_test)"
   ]
  },
  {
   "cell_type": "code",
   "execution_count": 91,
   "id": "19d67b6d-a6e5-4ece-ac5e-bc2b6b23b061",
   "metadata": {
    "tags": []
   },
   "outputs": [
    {
     "name": "stdout",
     "output_type": "stream",
     "text": [
      "              precision    recall  f1-score   support\n",
      "\n",
      "           0       0.63      0.98      0.77       195\n",
      "           1       0.25      0.01      0.02       113\n",
      "\n",
      "    accuracy                           0.63       308\n",
      "   macro avg       0.44      0.50      0.39       308\n",
      "weighted avg       0.49      0.63      0.49       308\n",
      "\n"
     ]
    }
   ],
   "source": [
    "from sklearn.metrics import classification_report\n",
    "print(classification_report(y_test,y_pred))"
   ]
  },
  {
   "cell_type": "code",
   "execution_count": 92,
   "id": "c5be27e6-95ee-4f92-b3b8-2e45b34af5b1",
   "metadata": {
    "tags": []
   },
   "outputs": [
    {
     "name": "stdout",
     "output_type": "stream",
     "text": [
      "              precision    recall  f1-score   support\n",
      "\n",
      "           0       0.64      0.97      0.77       195\n",
      "           1       0.44      0.04      0.07       113\n",
      "\n",
      "    accuracy                           0.63       308\n",
      "   macro avg       0.54      0.50      0.42       308\n",
      "weighted avg       0.57      0.63      0.51       308\n",
      "\n"
     ]
    }
   ],
   "source": [
    "print(classification_report(y_test,y_pred_ber))"
   ]
  },
  {
   "cell_type": "markdown",
   "id": "61b892bb-1d6b-4503-9396-5b6fa715aa04",
   "metadata": {},
   "source": [
    "# the results are like this because this data does not depend on the txt of the news itself for classifying the news as real or fake as we can seee it in the KNN model below"
   ]
  },
  {
   "cell_type": "code",
   "execution_count": 99,
   "id": "e91d0414-b8bf-4df5-b3b3-efdab87a90c6",
   "metadata": {
    "tags": []
   },
   "outputs": [],
   "source": [
    "from sklearn.neighbors import KNeighborsClassifier"
   ]
  },
  {
   "cell_type": "code",
   "execution_count": 101,
   "id": "0174f442-ad80-4299-9bc4-95d4eb811007",
   "metadata": {
    "tags": []
   },
   "outputs": [
    {
     "name": "stdout",
     "output_type": "stream",
     "text": [
      "              precision    recall  f1-score   support\n",
      "\n",
      "           0       0.64      0.68      0.66       195\n",
      "           1       0.38      0.35      0.36       113\n",
      "\n",
      "    accuracy                           0.56       308\n",
      "   macro avg       0.51      0.51      0.51       308\n",
      "weighted avg       0.55      0.56      0.55       308\n",
      "\n"
     ]
    }
   ],
   "source": [
    "clf = KNeighborsClassifier()\n",
    "clf.fit(x_train,y_train)\n",
    "y_predknn = clf.predict(x_test)\n",
    "print(classification_report(y_test,y_predknn))"
   ]
  },
  {
   "cell_type": "code",
   "execution_count": null,
   "id": "ea76ba4b-a67c-439c-a7e2-a2458fd6d149",
   "metadata": {},
   "outputs": [],
   "source": []
  }
 ],
 "metadata": {
  "kernelspec": {
   "display_name": "Python 3 (ipykernel)",
   "language": "python",
   "name": "python3"
  },
  "language_info": {
   "codemirror_mode": {
    "name": "ipython",
    "version": 3
   },
   "file_extension": ".py",
   "mimetype": "text/x-python",
   "name": "python",
   "nbconvert_exporter": "python",
   "pygments_lexer": "ipython3",
   "version": "3.11.4"
  }
 },
 "nbformat": 4,
 "nbformat_minor": 5
}
