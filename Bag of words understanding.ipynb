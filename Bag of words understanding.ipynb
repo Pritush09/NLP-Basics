{
 "cells": [
  {
   "cell_type": "code",
   "execution_count": 1,
   "id": "25dc3649",
   "metadata": {},
   "outputs": [],
   "source": [
    "import nltk"
   ]
  },
  {
   "cell_type": "code",
   "execution_count": 2,
   "id": "9bb16ad7",
   "metadata": {},
   "outputs": [],
   "source": [
    "Paragraph = \"\"\"Of course, in one sense, the first essential for a man's being a good citizen is his possession of the home virtues of which we think when we call a man by the emphatic \n",
    "               adjective of manly. No man can be a good citizen who is not a good husband and a good father, \n",
    "               who is not honest in his dealings with other men and women, faithful to his friends and fearless in the \n",
    "               presence of his foes, who has not got a sound heart, a sound mind, and a sound body; exactly as no amount\n",
    "               of attention to civil duties will save a nation if the domestic life is undermined, or there is lack of\n",
    "               the rude military virtues which alone can assure a country's position in the world. In a free republic \n",
    "               the ideal citizen must be one willing and able to take arms for the defense of the flag, exactly as the \n",
    "               ideal citizen must be the father of many healthy children. A race must be strong and vigorous; it must \n",
    "               be a race of good fighters and good breeders, else its wisdom will come to naught and its virtue be \n",
    "               ineffective; and no sweetness and delicacy, no love for and appreciation of beauty in art or literature,\n",
    "               no capacity for building up material prosperity can possibly atone for the lack of the great virile \n",
    "               virtues.But this is aside from my subject, for what I wish to talk of is the attitude of the American \n",
    "               citizen in civic life. It ought to be axiomatic in this country that every man must devote a reasonable \n",
    "               share of his time to doing his duty in the Political life of the community. No man has a right to shirk\n",
    "               his political duties under whatever plea of pleasure or business; and while such shirking may be pardoned\n",
    "               in those of small cleans it is entirely unpardonable in those among whom it is most common--in the people\n",
    "               whose circumstances give them freedom in the struggle for life. In so far as the community grows to think\n",
    "               rightly, it will likewise grow to regard the young man of means who shirks his duty to the State in time\n",
    "               of peace as being only one degree worse than the man who thus shirks it in time of war. A great many of\n",
    "               our men in business, or of our young men who are bent on enjoying life (as they have a perfect right to\n",
    "               do if only they do not sacrifice other things to enjoyment), rather plume themselves upon being good \n",
    "               citizens if they even vote; yet voting is the very least of their duties, Nothing worth gaining is ever \n",
    "               gained without effort. You can no more have freedom without striving and suffering for it than you can \n",
    "               win success as a banker or a lawyer without labor and effort, without self-denial in youth and the \n",
    "               display of a ready and alert intelligence in middle age. The people who say that they have not time \n",
    "               to attend to politics are simply saying that they are unfit to live in a free community.\"\"\""
   ]
  },
  {
   "cell_type": "code",
   "execution_count": 3,
   "id": "9718768d",
   "metadata": {},
   "outputs": [],
   "source": [
    "import re\n",
    "from nltk.corpus import stopwords\n",
    "from nltk.stem.porter import PorterStemmer\n",
    "from nltk.stem import WordNetLemmatizer"
   ]
  },
  {
   "cell_type": "code",
   "execution_count": 4,
   "id": "acc0bf23",
   "metadata": {},
   "outputs": [],
   "source": [
    "ps = PorterStemmer()\n",
    "wordnet=WordNetLemmatizer()"
   ]
  },
  {
   "cell_type": "code",
   "execution_count": 5,
   "id": "8b0c1fb4",
   "metadata": {},
   "outputs": [
    {
     "data": {
      "text/plain": [
       "\"Of course, in one sense, the first essential for a man's being a good citizen is his possession of the home virtues of which we think when we call a man by the emphatic \\n               adjective of manly.\""
      ]
     },
     "execution_count": 5,
     "metadata": {},
     "output_type": "execute_result"
    }
   ],
   "source": [
    "sentences = nltk.sent_tokenize(Paragraph)\n",
    "sentences[0]"
   ]
  },
  {
   "cell_type": "code",
   "execution_count": 6,
   "id": "e0898c36",
   "metadata": {},
   "outputs": [],
   "source": [
    "from nltk.tokenize import word_tokenize\n",
    "import string # this is for punctuation"
   ]
  },
  {
   "cell_type": "code",
   "execution_count": 7,
   "id": "6616f8b8",
   "metadata": {},
   "outputs": [
    {
     "data": {
      "text/plain": [
       "['Of',\n",
       " 'course',\n",
       " ',',\n",
       " 'in',\n",
       " 'one',\n",
       " 'sense',\n",
       " ',',\n",
       " 'the',\n",
       " 'first',\n",
       " 'essential',\n",
       " 'for',\n",
       " 'a',\n",
       " 'man',\n",
       " \"'s\",\n",
       " 'being',\n",
       " 'a',\n",
       " 'good',\n",
       " 'citizen',\n",
       " 'is',\n",
       " 'his',\n",
       " 'possession',\n",
       " 'of',\n",
       " 'the',\n",
       " 'home',\n",
       " 'virtues',\n",
       " 'of',\n",
       " 'which',\n",
       " 'we',\n",
       " 'think',\n",
       " 'when',\n",
       " 'we',\n",
       " 'call',\n",
       " 'a',\n",
       " 'man',\n",
       " 'by',\n",
       " 'the',\n",
       " 'emphatic',\n",
       " 'adjective',\n",
       " 'of',\n",
       " 'manly',\n",
       " '.']"
      ]
     },
     "execution_count": 7,
     "metadata": {},
     "output_type": "execute_result"
    }
   ],
   "source": [
    "test = [word_tokenize(sen) for sen in sentences]\n",
    "test[0]"
   ]
  },
  {
   "cell_type": "code",
   "execution_count": 8,
   "id": "5601f1e3",
   "metadata": {},
   "outputs": [],
   "source": [
    "corpus = []\n",
    "for i in range(len(sentences)):\n",
    "    #review = re.sub('[^a-zA-Z]', ' ', sentences[i])\n",
    "    review = sentences[i].lower()\n",
    "    review = word_tokenize(review)\n",
    "    #review = review.split()\n",
    "    # we didnt use stem as it only uses set of rules to convert the word and does not preserve the words meaning\n",
    "    review = [wordnet.lemmatize(word) for word in review if word not in set(stopwords.words('english'))]\n",
    "    review = [word for word in review if word not in (string.punctuation)]\n",
    "    review = ' '.join(review)\n",
    "    corpus.append(review)"
   ]
  },
  {
   "cell_type": "code",
   "execution_count": 9,
   "id": "cf65b1e1",
   "metadata": {},
   "outputs": [
    {
     "data": {
      "text/plain": [
       "\"course one sense first essential man 's good citizen possession home virtue think call man emphatic adjective manly\""
      ]
     },
     "execution_count": 9,
     "metadata": {},
     "output_type": "execute_result"
    }
   ],
   "source": [
    "corpus[0]"
   ]
  },
  {
   "cell_type": "code",
   "execution_count": 10,
   "id": "3dd41d15",
   "metadata": {},
   "outputs": [],
   "source": [
    "_corpus = []\n",
    "for msg in corpus:\n",
    "    for word in msg.split():\n",
    "        _corpus.append(word)"
   ]
  },
  {
   "cell_type": "code",
   "execution_count": 11,
   "id": "70f0ca10",
   "metadata": {},
   "outputs": [
    {
     "data": {
      "text/plain": [
       "['course',\n",
       " 'one',\n",
       " 'sense',\n",
       " 'first',\n",
       " 'essential',\n",
       " 'man',\n",
       " \"'s\",\n",
       " 'good',\n",
       " 'citizen',\n",
       " 'possession',\n",
       " 'home',\n",
       " 'virtue',\n",
       " 'think',\n",
       " 'call',\n",
       " 'man',\n",
       " 'emphatic',\n",
       " 'adjective',\n",
       " 'manly',\n",
       " 'man',\n",
       " 'good',\n",
       " 'citizen',\n",
       " 'good',\n",
       " 'husband',\n",
       " 'good',\n",
       " 'father',\n",
       " 'honest',\n",
       " 'dealing',\n",
       " 'men',\n",
       " 'woman',\n",
       " 'faithful',\n",
       " 'friend',\n",
       " 'fearless',\n",
       " 'presence',\n",
       " 'foe',\n",
       " 'got',\n",
       " 'sound',\n",
       " 'heart',\n",
       " 'sound',\n",
       " 'mind',\n",
       " 'sound',\n",
       " 'body',\n",
       " 'exactly',\n",
       " 'amount',\n",
       " 'attention',\n",
       " 'civil',\n",
       " 'duty',\n",
       " 'save',\n",
       " 'nation',\n",
       " 'domestic',\n",
       " 'life',\n",
       " 'undermined',\n",
       " 'lack',\n",
       " 'rude',\n",
       " 'military',\n",
       " 'virtue',\n",
       " 'alone',\n",
       " 'assure',\n",
       " 'country',\n",
       " \"'s\",\n",
       " 'position',\n",
       " 'world',\n",
       " 'free',\n",
       " 'republic',\n",
       " 'ideal',\n",
       " 'citizen',\n",
       " 'must',\n",
       " 'one',\n",
       " 'willing',\n",
       " 'able',\n",
       " 'take',\n",
       " 'arm',\n",
       " 'defense',\n",
       " 'flag',\n",
       " 'exactly',\n",
       " 'ideal',\n",
       " 'citizen',\n",
       " 'must',\n",
       " 'father',\n",
       " 'many',\n",
       " 'healthy',\n",
       " 'child',\n",
       " 'race',\n",
       " 'must',\n",
       " 'strong',\n",
       " 'vigorous',\n",
       " 'must',\n",
       " 'race',\n",
       " 'good',\n",
       " 'fighter',\n",
       " 'good',\n",
       " 'breeder',\n",
       " 'else',\n",
       " 'wisdom',\n",
       " 'come',\n",
       " 'naught',\n",
       " 'virtue',\n",
       " 'ineffective',\n",
       " 'sweetness',\n",
       " 'delicacy',\n",
       " 'love',\n",
       " 'appreciation',\n",
       " 'beauty',\n",
       " 'art',\n",
       " 'literature',\n",
       " 'capacity',\n",
       " 'building',\n",
       " 'material',\n",
       " 'prosperity',\n",
       " 'possibly',\n",
       " 'atone',\n",
       " 'lack',\n",
       " 'great',\n",
       " 'virile',\n",
       " 'virtues.but',\n",
       " 'aside',\n",
       " 'subject',\n",
       " 'wish',\n",
       " 'talk',\n",
       " 'attitude',\n",
       " 'american',\n",
       " 'citizen',\n",
       " 'civic',\n",
       " 'life',\n",
       " 'ought',\n",
       " 'axiomatic',\n",
       " 'country',\n",
       " 'every',\n",
       " 'man',\n",
       " 'must',\n",
       " 'devote',\n",
       " 'reasonable',\n",
       " 'share',\n",
       " 'time',\n",
       " 'duty',\n",
       " 'political',\n",
       " 'life',\n",
       " 'community',\n",
       " 'man',\n",
       " 'right',\n",
       " 'shirk',\n",
       " 'political',\n",
       " 'duty',\n",
       " 'whatever',\n",
       " 'plea',\n",
       " 'pleasure',\n",
       " 'business',\n",
       " 'shirking',\n",
       " 'may',\n",
       " 'pardoned',\n",
       " 'small',\n",
       " 'clean',\n",
       " 'entirely',\n",
       " 'unpardonable',\n",
       " 'among',\n",
       " 'common',\n",
       " '--',\n",
       " 'people',\n",
       " 'whose',\n",
       " 'circumstance',\n",
       " 'give',\n",
       " 'freedom',\n",
       " 'struggle',\n",
       " 'life',\n",
       " 'far',\n",
       " 'community',\n",
       " 'grows',\n",
       " 'think',\n",
       " 'rightly',\n",
       " 'likewise',\n",
       " 'grow',\n",
       " 'regard',\n",
       " 'young',\n",
       " 'man',\n",
       " 'mean',\n",
       " 'shirks',\n",
       " 'duty',\n",
       " 'state',\n",
       " 'time',\n",
       " 'peace',\n",
       " 'one',\n",
       " 'degree',\n",
       " 'worse',\n",
       " 'man',\n",
       " 'thus',\n",
       " 'shirks',\n",
       " 'time',\n",
       " 'war',\n",
       " 'great',\n",
       " 'many',\n",
       " 'men',\n",
       " 'business',\n",
       " 'young',\n",
       " 'men',\n",
       " 'bent',\n",
       " 'enjoying',\n",
       " 'life',\n",
       " 'perfect',\n",
       " 'right',\n",
       " 'sacrifice',\n",
       " 'thing',\n",
       " 'enjoyment',\n",
       " 'rather',\n",
       " 'plume',\n",
       " 'upon',\n",
       " 'good',\n",
       " 'citizen',\n",
       " 'even',\n",
       " 'vote',\n",
       " 'yet',\n",
       " 'voting',\n",
       " 'least',\n",
       " 'duty',\n",
       " 'nothing',\n",
       " 'worth',\n",
       " 'gaining',\n",
       " 'ever',\n",
       " 'gained',\n",
       " 'without',\n",
       " 'effort',\n",
       " 'freedom',\n",
       " 'without',\n",
       " 'striving',\n",
       " 'suffering',\n",
       " 'win',\n",
       " 'success',\n",
       " 'banker',\n",
       " 'lawyer',\n",
       " 'without',\n",
       " 'labor',\n",
       " 'effort',\n",
       " 'without',\n",
       " 'self-denial',\n",
       " 'youth',\n",
       " 'display',\n",
       " 'ready',\n",
       " 'alert',\n",
       " 'intelligence',\n",
       " 'middle',\n",
       " 'age',\n",
       " 'people',\n",
       " 'say',\n",
       " 'time',\n",
       " 'attend',\n",
       " 'politics',\n",
       " 'simply',\n",
       " 'saying',\n",
       " 'unfit',\n",
       " 'live',\n",
       " 'free',\n",
       " 'community']"
      ]
     },
     "execution_count": 11,
     "metadata": {},
     "output_type": "execute_result"
    }
   ],
   "source": [
    "_corpus"
   ]
  },
  {
   "cell_type": "code",
   "execution_count": 12,
   "id": "8581b8fc",
   "metadata": {},
   "outputs": [
    {
     "data": {
      "text/plain": [
       "[('man', 7),\n",
       " ('good', 7),\n",
       " ('citizen', 6),\n",
       " ('duty', 5),\n",
       " ('life', 5),\n",
       " ('must', 5),\n",
       " ('time', 4),\n",
       " ('without', 4),\n",
       " ('one', 3),\n",
       " ('virtue', 3),\n",
       " ('men', 3),\n",
       " ('sound', 3),\n",
       " ('community', 3),\n",
       " (\"'s\", 2),\n",
       " ('think', 2),\n",
       " ('father', 2),\n",
       " ('exactly', 2),\n",
       " ('lack', 2),\n",
       " ('country', 2),\n",
       " ('free', 2),\n",
       " ('ideal', 2),\n",
       " ('many', 2),\n",
       " ('race', 2),\n",
       " ('great', 2),\n",
       " ('political', 2),\n",
       " ('right', 2),\n",
       " ('business', 2),\n",
       " ('people', 2),\n",
       " ('freedom', 2),\n",
       " ('young', 2),\n",
       " ('shirks', 2),\n",
       " ('effort', 2),\n",
       " ('course', 1),\n",
       " ('sense', 1),\n",
       " ('first', 1),\n",
       " ('essential', 1),\n",
       " ('possession', 1),\n",
       " ('home', 1),\n",
       " ('call', 1),\n",
       " ('emphatic', 1)]"
      ]
     },
     "execution_count": 12,
     "metadata": {},
     "output_type": "execute_result"
    }
   ],
   "source": [
    "from collections import Counter  #ye filter out karne me kaam aega most common words ko\n",
    "Counter(_corpus).most_common(40)"
   ]
  },
  {
   "cell_type": "code",
   "execution_count": 13,
   "id": "98bd14bf",
   "metadata": {},
   "outputs": [
    {
     "data": {
      "text/plain": [
       "40"
      ]
     },
     "execution_count": 13,
     "metadata": {},
     "output_type": "execute_result"
    }
   ],
   "source": [
    "len(Counter(_corpus).most_common(40))"
   ]
  },
  {
   "cell_type": "code",
   "execution_count": 14,
   "id": "d4b28b8b",
   "metadata": {},
   "outputs": [],
   "source": [
    "from sklearn.feature_extraction.text import CountVectorizer\n",
    "cv = CountVectorizer(max_features=30)"
   ]
  },
  {
   "cell_type": "code",
   "execution_count": 15,
   "id": "54337a0a",
   "metadata": {},
   "outputs": [],
   "source": [
    "X = cv.fit_transform(corpus).toarray()"
   ]
  },
  {
   "cell_type": "code",
   "execution_count": 16,
   "id": "49aaa20d",
   "metadata": {},
   "outputs": [
    {
     "data": {
      "text/plain": [
       "\"course one sense first essential man 's good citizen possession home virtue think call man emphatic adjective manly\""
      ]
     },
     "execution_count": 16,
     "metadata": {},
     "output_type": "execute_result"
    }
   ],
   "source": [
    "corpus[0]"
   ]
  },
  {
   "cell_type": "code",
   "execution_count": 17,
   "id": "10ed006e",
   "metadata": {},
   "outputs": [
    {
     "data": {
      "text/plain": [
       "array([0, 1, 0, 0, 0, 0, 0, 0, 0, 0, 1, 0, 0, 0, 0, 2, 0, 0, 0, 1, 0, 0,\n",
       "       0, 0, 0, 0, 1, 0, 1, 0], dtype=int64)"
      ]
     },
     "execution_count": 17,
     "metadata": {},
     "output_type": "execute_result"
    }
   ],
   "source": [
    "X[0]"
   ]
  },
  {
   "cell_type": "code",
   "execution_count": 27,
   "id": "eece40b5",
   "metadata": {},
   "outputs": [
    {
     "data": {
      "text/plain": [
       "(array([ 1, 10, 15, 19, 26, 28], dtype=int64),)"
      ]
     },
     "execution_count": 27,
     "metadata": {},
     "output_type": "execute_result"
    }
   ],
   "source": [
    "# if the vector is too big and you want ot see the non zero element `s position then \n",
    "import numpy as np\n",
    "np.where(X[0]!=0)"
   ]
  },
  {
   "cell_type": "code",
   "execution_count": 23,
   "id": "ef835bf2",
   "metadata": {},
   "outputs": [
    {
     "name": "stdout",
     "output_type": "stream",
     "text": [
      "Vocabulary:  {'one': 19, 'man': 15, 'good': 10, 'citizen': 1, 'virtue': 28, 'think': 26, 'father': 7, 'men': 17, 'sound': 25, 'exactly': 6, 'duty': 4, 'life': 14, 'lack': 13, 'country': 3, 'free': 8, 'ideal': 12, 'must': 18, 'many': 16, 'race': 22, 'great': 11, 'time': 27, 'political': 21, 'community': 2, 'right': 23, 'business': 0, 'people': 20, 'freedom': 9, 'shirks': 24, 'without': 29, 'effort': 5}\n"
     ]
    }
   ],
   "source": [
    "# Printing the identified Unique words along with their indices\n",
    "print(\"Vocabulary: \", cv.vocabulary_)"
   ]
  },
  {
   "cell_type": "code",
   "execution_count": 24,
   "id": "431bbedf",
   "metadata": {},
   "outputs": [
    {
     "data": {
      "text/plain": [
       "'one'"
      ]
     },
     "execution_count": 24,
     "metadata": {},
     "output_type": "execute_result"
    }
   ],
   "source": [
    "cv.get_feature_names_out()[19]\n",
    "# the trained model which we have done above has assigned 19th pposition in its vocab for word one which\n",
    "# we can see here"
   ]
  },
  {
   "cell_type": "code",
   "execution_count": 21,
   "id": "ab255bab",
   "metadata": {},
   "outputs": [
    {
     "data": {
      "text/plain": [
       "(10, 30)"
      ]
     },
     "execution_count": 21,
     "metadata": {},
     "output_type": "execute_result"
    }
   ],
   "source": [
    "import pandas as pd\n",
    "df_for_features = pd.DataFrame(data=X,columns = cv.get_feature_names_out())\n",
    "df_for_features.shape"
   ]
  },
  {
   "cell_type": "code",
   "execution_count": 22,
   "id": "d2b13348",
   "metadata": {},
   "outputs": [
    {
     "data": {
      "text/plain": [
       "(30,)"
      ]
     },
     "execution_count": 22,
     "metadata": {},
     "output_type": "execute_result"
    }
   ],
   "source": [
    "cv.get_feature_names_out().shape"
   ]
  },
  {
   "cell_type": "code",
   "execution_count": null,
   "id": "36f48a91",
   "metadata": {},
   "outputs": [],
   "source": []
  }
 ],
 "metadata": {
  "kernelspec": {
   "display_name": "Python 3 (ipykernel)",
   "language": "python",
   "name": "python3"
  },
  "language_info": {
   "codemirror_mode": {
    "name": "ipython",
    "version": 3
   },
   "file_extension": ".py",
   "mimetype": "text/x-python",
   "name": "python",
   "nbconvert_exporter": "python",
   "pygments_lexer": "ipython3",
   "version": "3.10.0"
  }
 },
 "nbformat": 4,
 "nbformat_minor": 5
}
