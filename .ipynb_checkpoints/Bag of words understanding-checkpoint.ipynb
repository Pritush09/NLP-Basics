{
 "cells": [
  {
   "cell_type": "code",
   "execution_count": 1,
   "id": "25dc3649",
   "metadata": {},
   "outputs": [],
   "source": [
    "import nltk"
   ]
  },
  {
   "cell_type": "code",
   "execution_count": 11,
   "id": "9bb16ad7",
   "metadata": {},
   "outputs": [],
   "source": [
    "Paragraph = \"\"\"Of course, in one sense, the first essential for a man's being a good citizen is his possession of the home virtues of which we think when we call a man by the emphatic \n",
    "               adjective of manly. No man can be a good citizen who is not a good husband and a good father, \n",
    "               who is not honest in his dealings with other men and women, faithful to his friends and fearless in the \n",
    "               presence of his foes, who has not got a sound heart, a sound mind, and a sound body; exactly as no amount\n",
    "               of attention to civil duties will save a nation if the domestic life is undermined, or there is lack of\n",
    "               the rude military virtues which alone can assure a country's position in the world. In a free republic \n",
    "               the ideal citizen must be one willing and able to take arms for the defense of the flag, exactly as the \n",
    "               ideal citizen must be the father of many healthy children. A race must be strong and vigorous; it must \n",
    "               be a race of good fighters and good breeders, else its wisdom will come to naught and its virtue be \n",
    "               ineffective; and no sweetness and delicacy, no love for and appreciation of beauty in art or literature,\n",
    "               no capacity for building up material prosperity can possibly atone for the lack of the great virile \n",
    "               virtues.But this is aside from my subject, for what I wish to talk of is the attitude of the American \n",
    "               citizen in civic life. It ought to be axiomatic in this country that every man must devote a reasonable \n",
    "               share of his time to doing his duty in the Political life of the community. No man has a right to shirk\n",
    "               his political duties under whatever plea of pleasure or business; and while such shirking may be pardoned\n",
    "               in those of small cleans it is entirely unpardonable in those among whom it is most common--in the people\n",
    "               whose circumstances give them freedom in the struggle for life. In so far as the community grows to think\n",
    "               rightly, it will likewise grow to regard the young man of means who shirks his duty to the State in time\n",
    "               of peace as being only one degree worse than the man who thus shirks it in time of war. A great many of\n",
    "               our men in business, or of our young men who are bent on enjoying life (as they have a perfect right to\n",
    "               do if only they do not sacrifice other things to enjoyment), rather plume themselves upon being good \n",
    "               citizens if they even vote; yet voting is the very least of their duties, Nothing worth gaining is ever \n",
    "               gained without effort. You can no more have freedom without striving and suffering for it than you can \n",
    "               win success as a banker or a lawyer without labor and effort, without self-denial in youth and the \n",
    "               display of a ready and alert intelligence in middle age. The people who say that they have not time \n",
    "               to attend to politics are simply saying that they are unfit to live in a free community.\"\"\""
   ]
  },
  {
   "cell_type": "code",
   "execution_count": 12,
   "id": "9718768d",
   "metadata": {},
   "outputs": [],
   "source": [
    "import re\n",
    "from nltk.corpus import stopwords\n",
    "from nltk.stem.porter import PorterStemmer\n",
    "from nltk.stem import WordNetLemmatizer"
   ]
  },
  {
   "cell_type": "code",
   "execution_count": 13,
   "id": "5601f1e3",
   "metadata": {},
   "outputs": [],
   "source": [
    "ps = PorterStemmer()\n",
    "wordnet=WordNetLemmatizer()\n",
    "sentences = nltk.sent_tokenize(Paragraph)\n",
    "corpus = []\n",
    "for i in range(len(sentences)):\n",
    "    review = re.sub('[^a-zA-Z]', ' ', sentences[i])\n",
    "    review = review.lower()\n",
    "    review = review.split()\n",
    "    review = [ps.stem(word) for word in review if not word in set(stopwords.words('english'))]\n",
    "    review = ' '.join(review)\n",
    "    corpus.append(review)"
   ]
  },
  {
   "cell_type": "code",
   "execution_count": 14,
   "id": "cf65b1e1",
   "metadata": {},
   "outputs": [
    {
     "data": {
      "text/plain": [
       "['cours one sens first essenti man good citizen possess home virtu think call man emphat adject manli',\n",
       " 'man good citizen good husband good father honest deal men women faith friend fearless presenc foe got sound heart sound mind sound bodi exactli amount attent civil duti save nation domest life undermin lack rude militari virtu alon assur countri posit world',\n",
       " 'free republ ideal citizen must one will abl take arm defens flag exactli ideal citizen must father mani healthi children',\n",
       " 'race must strong vigor must race good fighter good breeder els wisdom come naught virtu ineffect sweet delicaci love appreci beauti art literatur capac build materi prosper possibl aton lack great viril virtu asid subject wish talk attitud american citizen civic life',\n",
       " 'ought axiomat countri everi man must devot reason share time duti polit life commun',\n",
       " 'man right shirk polit duti whatev plea pleasur busi shirk may pardon small clean entir unpardon among common peopl whose circumst give freedom struggl life',\n",
       " 'far commun grow think rightli likewis grow regard young man mean shirk duti state time peac one degre wors man thu shirk time war',\n",
       " 'great mani men busi young men bent enjoy life perfect right sacrific thing enjoy rather plume upon good citizen even vote yet vote least duti noth worth gain ever gain without effort',\n",
       " 'freedom without strive suffer win success banker lawyer without labor effort without self denial youth display readi alert intellig middl age',\n",
       " 'peopl say time attend polit simpli say unfit live free commun']"
      ]
     },
     "execution_count": 14,
     "metadata": {},
     "output_type": "execute_result"
    }
   ],
   "source": [
    "corpus"
   ]
  },
  {
   "cell_type": "code",
   "execution_count": 33,
   "id": "3dd41d15",
   "metadata": {},
   "outputs": [],
   "source": [
    "_corpus = []\n",
    "for msg in corpus:\n",
    "    for word in msg.split():\n",
    "        _corpus.append(word)"
   ]
  },
  {
   "cell_type": "code",
   "execution_count": 35,
   "id": "8581b8fc",
   "metadata": {},
   "outputs": [
    {
     "data": {
      "text/plain": [
       "[('man', 7),\n",
       " ('good', 7),\n",
       " ('citizen', 6),\n",
       " ('duti', 5),\n",
       " ('life', 5),\n",
       " ('must', 5),\n",
       " ('virtu', 4),\n",
       " ('time', 4),\n",
       " ('shirk', 4),\n",
       " ('without', 4),\n",
       " ('one', 3),\n",
       " ('men', 3),\n",
       " ('sound', 3),\n",
       " ('polit', 3),\n",
       " ('commun', 3),\n",
       " ('think', 2),\n",
       " ('father', 2),\n",
       " ('exactli', 2),\n",
       " ('lack', 2),\n",
       " ('countri', 2),\n",
       " ('free', 2),\n",
       " ('ideal', 2),\n",
       " ('mani', 2),\n",
       " ('race', 2),\n",
       " ('great', 2),\n",
       " ('right', 2),\n",
       " ('busi', 2),\n",
       " ('peopl', 2),\n",
       " ('freedom', 2),\n",
       " ('grow', 2),\n",
       " ('young', 2),\n",
       " ('enjoy', 2),\n",
       " ('vote', 2),\n",
       " ('gain', 2),\n",
       " ('effort', 2),\n",
       " ('say', 2),\n",
       " ('cours', 1),\n",
       " ('sens', 1),\n",
       " ('first', 1),\n",
       " ('essenti', 1)]"
      ]
     },
     "execution_count": 35,
     "metadata": {},
     "output_type": "execute_result"
    }
   ],
   "source": [
    "from collections import Counter  #ye filter out karne me kaam aega most common words ko\n",
    "Counter(_corpus).most_common(40)"
   ]
  },
  {
   "cell_type": "code",
   "execution_count": 15,
   "id": "d4b28b8b",
   "metadata": {},
   "outputs": [],
   "source": [
    "from sklearn.feature_extraction.text import CountVectorizer\n",
    "cv = CountVectorizer(max_features=1500)"
   ]
  },
  {
   "cell_type": "code",
   "execution_count": 27,
   "id": "54337a0a",
   "metadata": {},
   "outputs": [],
   "source": [
    "X = cv.fit_transform(corpus).toarray()"
   ]
  },
  {
   "cell_type": "code",
   "execution_count": 29,
   "id": "10ed006e",
   "metadata": {},
   "outputs": [
    {
     "data": {
      "text/plain": [
       "array([0, 1, 0, 0, 0, 0, 0, 0, 0, 0, 0, 0, 0, 0, 0, 0, 0, 0, 0, 0, 0, 0,\n",
       "       0, 0, 0, 1, 0, 0, 0, 1, 0, 0, 0, 0, 0, 0, 0, 1, 0, 0, 0, 0, 0, 0,\n",
       "       0, 0, 0, 0, 0, 1, 0, 0, 1, 0, 0, 0, 0, 0, 0, 0, 0, 0, 1, 0, 0, 0,\n",
       "       0, 0, 0, 0, 1, 0, 0, 0, 0, 0, 1, 0, 0, 0, 0, 0, 0, 0, 0, 0, 0, 0,\n",
       "       0, 0, 0, 2, 0, 1, 0, 0, 0, 0, 0, 0, 0, 0, 0, 0, 0, 1, 0, 0, 0, 0,\n",
       "       0, 0, 0, 0, 0, 0, 1, 0, 0, 0, 0, 0, 0, 0, 0, 0, 0, 0, 0, 0, 0, 0,\n",
       "       0, 1, 0, 0, 0, 0, 0, 0, 0, 0, 0, 0, 0, 0, 0, 0, 0, 0, 1, 0, 0, 0,\n",
       "       0, 0, 0, 0, 0, 1, 0, 0, 0, 0, 0, 0, 0, 0, 0, 0, 0, 0, 0, 0, 0, 0],\n",
       "      dtype=int64)"
      ]
     },
     "execution_count": 29,
     "metadata": {},
     "output_type": "execute_result"
    }
   ],
   "source": [
    "X[0]"
   ]
  },
  {
   "cell_type": "code",
   "execution_count": null,
   "id": "ab255bab",
   "metadata": {},
   "outputs": [],
   "source": []
  },
  {
   "cell_type": "code",
   "execution_count": null,
   "id": "d2b13348",
   "metadata": {},
   "outputs": [],
   "source": []
  }
 ],
 "metadata": {
  "kernelspec": {
   "display_name": "Python 3 (ipykernel)",
   "language": "python",
   "name": "python3"
  },
  "language_info": {
   "codemirror_mode": {
    "name": "ipython",
    "version": 3
   },
   "file_extension": ".py",
   "mimetype": "text/x-python",
   "name": "python",
   "nbconvert_exporter": "python",
   "pygments_lexer": "ipython3",
   "version": "3.10.0"
  }
 },
 "nbformat": 4,
 "nbformat_minor": 5
}
