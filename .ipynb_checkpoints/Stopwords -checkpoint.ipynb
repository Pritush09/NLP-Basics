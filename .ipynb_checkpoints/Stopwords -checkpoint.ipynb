{
 "cells": [
  {
   "cell_type": "markdown",
   "id": "1209bd19",
   "metadata": {},
   "source": [
    "# We should not remove stopwords in\n",
    "* chatbot Q&A\n",
    "* Language Translation\n",
    "* Any case were valuable information is lost"
   ]
  },
  {
   "cell_type": "code",
   "execution_count": 13,
   "id": "8f4dcee3",
   "metadata": {},
   "outputs": [
    {
     "data": {
      "text/plain": [
       "326"
      ]
     },
     "execution_count": 13,
     "metadata": {},
     "output_type": "execute_result"
    }
   ],
   "source": [
    "import spacy\n",
    "import nltk\n",
    "from spacy.lang.en.stop_words import STOP_WORDS\n",
    "len(STOP_WORDS)"
   ]
  },
  {
   "cell_type": "code",
   "execution_count": 14,
   "id": "84e58a38",
   "metadata": {},
   "outputs": [
    {
     "data": {
      "text/plain": [
       "179"
      ]
     },
     "execution_count": 14,
     "metadata": {},
     "output_type": "execute_result"
    }
   ],
   "source": [
    "from nltk.corpus import stopwords\n",
    "len(stopwords.words('english'))"
   ]
  },
  {
   "cell_type": "code",
   "execution_count": 15,
   "id": "ca40db0f",
   "metadata": {},
   "outputs": [
    {
     "data": {
      "text/plain": [
       "list"
      ]
     },
     "execution_count": 15,
     "metadata": {},
     "output_type": "execute_result"
    }
   ],
   "source": [
    "type(stopwords.words('english'))"
   ]
  },
  {
   "cell_type": "code",
   "execution_count": 16,
   "id": "885f97aa",
   "metadata": {},
   "outputs": [],
   "source": [
    "# we should be using stopwords of the spacy library "
   ]
  },
  {
   "cell_type": "code",
   "execution_count": 17,
   "id": "67d6bbff",
   "metadata": {},
   "outputs": [
    {
     "name": "stdout",
     "output_type": "stream",
     "text": [
      "if\n",
      "the\n"
     ]
    }
   ],
   "source": [
    "nlp = spacy.load(\"en_core_web_sm\")\n",
    "doc = nlp(\"lkfiphvn vnnvpihrv piefvipv if the alhvpid\")\n",
    "for token in doc:\n",
    "    if token.is_stop:\n",
    "        print(token)\n",
    "# and for the punctuation it is .is_punct"
   ]
  },
  {
   "cell_type": "code",
   "execution_count": null,
   "id": "ace6b7c0",
   "metadata": {},
   "outputs": [],
   "source": [
    "#(STOP_WORDS)"
   ]
  },
  {
   "cell_type": "code",
   "execution_count": 19,
   "id": "53d2313b",
   "metadata": {
    "collapsed": true
   },
   "outputs": [
    {
     "name": "stdout",
     "output_type": "stream",
     "text": [
      "anyhow\n",
      "however\n",
      "’m\n",
      "wherein\n",
      "us\n",
      "anyway\n",
      "sixty\n",
      "'m\n",
      "whereupon\n",
      "across\n",
      "others\n",
      "please\n",
      "see\n",
      "five\n",
      "former\n",
      "'ve\n",
      "’s\n",
      "nothing\n",
      "anything\n",
      "nobody\n",
      "cannot\n",
      "enough\n",
      "thereby\n",
      "toward\n",
      "whoever\n",
      "well\n",
      "even\n",
      "something\n",
      "last\n",
      "many\n",
      "‘ve\n",
      "perhaps\n",
      "nevertheless\n",
      "‘m\n",
      "along\n",
      "everyone\n",
      "‘d\n",
      "hereafter\n",
      "none\n",
      "twenty\n",
      "nowhere\n",
      "’d\n",
      "towards\n",
      "throughout\n",
      "whereas\n",
      "‘ll\n",
      "name\n",
      "becomes\n",
      "whenever\n",
      "become\n",
      "noone\n",
      "beyond\n",
      "several\n",
      "among\n",
      "’ve\n",
      "otherwise\n",
      "therefore\n",
      "part\n",
      "elsewhere\n",
      "mostly\n",
      "n’t\n",
      "still\n",
      "may\n",
      "indeed\n",
      "already\n",
      "bottom\n",
      "'s\n",
      "beside\n",
      "regarding\n",
      "go\n",
      "although\n",
      "though\n",
      "due\n",
      "whole\n",
      "less\n",
      "six\n",
      "unless\n",
      "must\n",
      "whence\n",
      "hence\n",
      "ever\n",
      "whereafter\n",
      "next\n",
      "someone\n",
      "whether\n",
      "'re\n",
      "somehow\n",
      "seeming\n",
      "move\n",
      "four\n",
      "seems\n",
      "call\n",
      "became\n",
      "afterwards\n",
      "another\n",
      "never\n",
      "done\n",
      "used\n",
      "really\n",
      "without\n",
      "third\n",
      "say\n",
      "meanwhile\n",
      "together\n",
      "hereupon\n",
      "empty\n",
      "back\n",
      "nine\n",
      "whereby\n",
      "herein\n",
      "‘re\n",
      "fifty\n",
      "made\n",
      "via\n",
      "except\n",
      "amount\n",
      "around\n",
      "anyone\n",
      "three\n",
      "formerly\n",
      "take\n",
      "namely\n",
      "top\n",
      "onto\n",
      "full\n",
      "everything\n",
      "first\n",
      "fifteen\n",
      "per\n",
      "ten\n",
      "sometimes\n",
      "therein\n",
      "anywhere\n",
      "’re\n",
      "‘s\n",
      "show\n",
      "thence\n",
      "make\n",
      "sometime\n",
      "thereafter\n",
      "much\n",
      "thus\n",
      "seem\n",
      "besides\n",
      "almost\n",
      "one\n",
      "various\n",
      "somewhere\n",
      "n't\n",
      "often\n",
      "whatever\n",
      "becoming\n",
      "would\n",
      "’ll\n",
      "forty\n",
      "thereupon\n",
      "two\n",
      "ca\n",
      "latterly\n",
      "rather\n",
      "either\n",
      "eleven\n",
      "else\n",
      "might\n",
      "since\n",
      "yet\n",
      "behind\n",
      "upon\n",
      "hundred\n",
      "whose\n",
      "give\n",
      "n‘t\n",
      "'d\n",
      "could\n",
      "put\n",
      "every\n",
      "wherever\n",
      "quite\n",
      "moreover\n",
      "also\n",
      "everywhere\n",
      "latter\n",
      "seemed\n",
      "'ll\n",
      "eight\n",
      "neither\n",
      "within\n",
      "alone\n",
      "mine\n",
      "side\n",
      "whither\n",
      "always\n",
      "front\n",
      "keep\n",
      "amongst\n",
      "get\n",
      "twelve\n",
      "thru\n",
      "least\n",
      "beforehand\n",
      "hereby\n",
      "serious\n",
      "using\n"
     ]
    }
   ],
   "source": [
    "v = list(STOP_WORDS)\n",
    "for item in v:\n",
    "    if item not in stopwords.words('english'):\n",
    "        print(item)"
   ]
  },
  {
   "cell_type": "code",
   "execution_count": null,
   "id": "d62db2e3",
   "metadata": {},
   "outputs": [],
   "source": []
  }
 ],
 "metadata": {
  "kernelspec": {
   "display_name": "Python 3 (ipykernel)",
   "language": "python",
   "name": "python3"
  },
  "language_info": {
   "codemirror_mode": {
    "name": "ipython",
    "version": 3
   },
   "file_extension": ".py",
   "mimetype": "text/x-python",
   "name": "python",
   "nbconvert_exporter": "python",
   "pygments_lexer": "ipython3",
   "version": "3.10.0"
  }
 },
 "nbformat": 4,
 "nbformat_minor": 5
}
